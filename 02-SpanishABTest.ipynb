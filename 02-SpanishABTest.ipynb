{
 "cells": [
  {
   "cell_type": "code",
   "execution_count": 1,
   "metadata": {},
   "outputs": [
    {
     "data": {
      "text/plain": [
       "'\\nGoal:\\n1. Analyze results from an A/B test.\\n2. Design an algorithm to automate some steps.\\n\\nProblem Statement:\\nSpain-based users have much higher conversion rate than other Spanish-speaking country. Translation could be one \\nreason. Test: each country would have its one translation written by a local. But test failed. \\nNon-localized translation was doing better.\\n\\n1. Confirm that the test is actually negative.\\n2. Explain why that might be happening. Are the localized translations really worse?\\n3. If you identified what was wrong, design an algorithm that would return FALSE if the\\nsame problem is happening in the future and TRUE if everything is good and the results can be trusted.\\n\\nAuthor:@surancy\\nDate:07/07/2019\\n'"
      ]
     },
     "execution_count": 1,
     "metadata": {},
     "output_type": "execute_result"
    }
   ],
   "source": [
    "\"\"\"\n",
    "Goal:\n",
    "1. Analyze results from an A/B test.\n",
    "2. Design an algorithm to automate some steps.\n",
    "\n",
    "Problem Statement:\n",
    "Spain-based users have much higher conversion rate than other Spanish-speaking country. Translation could be one \n",
    "reason. Test: each country would have its one translation written by a local. But test failed. \n",
    "Non-localized translation was doing better.\n",
    "\n",
    "1. Confirm that the test is actually negative.\n",
    "2. Explain why that might be happening. Are the localized translations really worse?\n",
    "3. If you identified what was wrong, design an algorithm that would return FALSE if the\n",
    "same problem is happening in the future and TRUE if everything is good and the results can be trusted.\n",
    "\n",
    "Author:@surancy\n",
    "Date:07/07/2019\n",
    "\"\"\""
   ]
  },
  {
   "cell_type": "code",
   "execution_count": 2,
   "metadata": {},
   "outputs": [],
   "source": [
    "# Setting up\n",
    "import pandas as pd\n",
    "import numpy as np\n",
    "import matplotlib.pyplot as plt\n",
    "import seaborn as sns"
   ]
  },
  {
   "cell_type": "code",
   "execution_count": 3,
   "metadata": {},
   "outputs": [],
   "source": [
    "# to suppress warnings using sns\n",
    "import warnings\n",
    "warnings.filterwarnings('ignore')"
   ]
  },
  {
   "cell_type": "code",
   "execution_count": 4,
   "metadata": {},
   "outputs": [],
   "source": [
    "# load data\n",
    "df_test = pd.read_csv(\"test_table.csv\")\n",
    "df_user = pd.read_csv(\"user_table.csv\")"
   ]
  },
  {
   "cell_type": "code",
   "execution_count": 5,
   "metadata": {},
   "outputs": [
    {
     "data": {
      "text/html": [
       "<div>\n",
       "<style scoped>\n",
       "    .dataframe tbody tr th:only-of-type {\n",
       "        vertical-align: middle;\n",
       "    }\n",
       "\n",
       "    .dataframe tbody tr th {\n",
       "        vertical-align: top;\n",
       "    }\n",
       "\n",
       "    .dataframe thead th {\n",
       "        text-align: right;\n",
       "    }\n",
       "</style>\n",
       "<table border=\"1\" class=\"dataframe\">\n",
       "  <thead>\n",
       "    <tr style=\"text-align: right;\">\n",
       "      <th></th>\n",
       "      <th>user_id</th>\n",
       "      <th>date</th>\n",
       "      <th>source</th>\n",
       "      <th>device</th>\n",
       "      <th>browser_language</th>\n",
       "      <th>ads_channel</th>\n",
       "      <th>browser</th>\n",
       "      <th>conversion</th>\n",
       "      <th>test</th>\n",
       "    </tr>\n",
       "  </thead>\n",
       "  <tbody>\n",
       "    <tr>\n",
       "      <th>0</th>\n",
       "      <td>315281</td>\n",
       "      <td>2015-12-03</td>\n",
       "      <td>Direct</td>\n",
       "      <td>Web</td>\n",
       "      <td>ES</td>\n",
       "      <td>NaN</td>\n",
       "      <td>IE</td>\n",
       "      <td>1</td>\n",
       "      <td>0</td>\n",
       "    </tr>\n",
       "    <tr>\n",
       "      <th>1</th>\n",
       "      <td>497851</td>\n",
       "      <td>2015-12-04</td>\n",
       "      <td>Ads</td>\n",
       "      <td>Web</td>\n",
       "      <td>ES</td>\n",
       "      <td>Google</td>\n",
       "      <td>IE</td>\n",
       "      <td>0</td>\n",
       "      <td>1</td>\n",
       "    </tr>\n",
       "    <tr>\n",
       "      <th>2</th>\n",
       "      <td>848402</td>\n",
       "      <td>2015-12-04</td>\n",
       "      <td>Ads</td>\n",
       "      <td>Web</td>\n",
       "      <td>ES</td>\n",
       "      <td>Facebook</td>\n",
       "      <td>Chrome</td>\n",
       "      <td>0</td>\n",
       "      <td>0</td>\n",
       "    </tr>\n",
       "    <tr>\n",
       "      <th>3</th>\n",
       "      <td>290051</td>\n",
       "      <td>2015-12-03</td>\n",
       "      <td>Ads</td>\n",
       "      <td>Mobile</td>\n",
       "      <td>Other</td>\n",
       "      <td>Facebook</td>\n",
       "      <td>Android_App</td>\n",
       "      <td>0</td>\n",
       "      <td>1</td>\n",
       "    </tr>\n",
       "    <tr>\n",
       "      <th>4</th>\n",
       "      <td>548435</td>\n",
       "      <td>2015-11-30</td>\n",
       "      <td>Ads</td>\n",
       "      <td>Web</td>\n",
       "      <td>ES</td>\n",
       "      <td>Google</td>\n",
       "      <td>FireFox</td>\n",
       "      <td>0</td>\n",
       "      <td>1</td>\n",
       "    </tr>\n",
       "  </tbody>\n",
       "</table>\n",
       "</div>"
      ],
      "text/plain": [
       "   user_id        date  source  device browser_language ads_channel  \\\n",
       "0   315281  2015-12-03  Direct     Web               ES         NaN   \n",
       "1   497851  2015-12-04     Ads     Web               ES      Google   \n",
       "2   848402  2015-12-04     Ads     Web               ES    Facebook   \n",
       "3   290051  2015-12-03     Ads  Mobile            Other    Facebook   \n",
       "4   548435  2015-11-30     Ads     Web               ES      Google   \n",
       "\n",
       "       browser  conversion  test  \n",
       "0           IE           1     0  \n",
       "1           IE           0     1  \n",
       "2       Chrome           0     0  \n",
       "3  Android_App           0     1  \n",
       "4      FireFox           0     1  "
      ]
     },
     "execution_count": 5,
     "metadata": {},
     "output_type": "execute_result"
    }
   ],
   "source": [
    "# Inspection and Data Preparation\n",
    "df_test.head()"
   ]
  },
  {
   "cell_type": "markdown",
   "metadata": {},
   "source": [
    "test: 0 being control and 1 being test. Test see new translation, control keep the old. Spain-based users are all in control group."
   ]
  },
  {
   "cell_type": "code",
   "execution_count": 6,
   "metadata": {},
   "outputs": [
    {
     "data": {
      "text/html": [
       "<div>\n",
       "<style scoped>\n",
       "    .dataframe tbody tr th:only-of-type {\n",
       "        vertical-align: middle;\n",
       "    }\n",
       "\n",
       "    .dataframe tbody tr th {\n",
       "        vertical-align: top;\n",
       "    }\n",
       "\n",
       "    .dataframe thead th {\n",
       "        text-align: right;\n",
       "    }\n",
       "</style>\n",
       "<table border=\"1\" class=\"dataframe\">\n",
       "  <thead>\n",
       "    <tr style=\"text-align: right;\">\n",
       "      <th></th>\n",
       "      <th>user_id</th>\n",
       "      <th>sex</th>\n",
       "      <th>age</th>\n",
       "      <th>country</th>\n",
       "    </tr>\n",
       "  </thead>\n",
       "  <tbody>\n",
       "    <tr>\n",
       "      <th>0</th>\n",
       "      <td>765821</td>\n",
       "      <td>M</td>\n",
       "      <td>20</td>\n",
       "      <td>Mexico</td>\n",
       "    </tr>\n",
       "    <tr>\n",
       "      <th>1</th>\n",
       "      <td>343561</td>\n",
       "      <td>F</td>\n",
       "      <td>27</td>\n",
       "      <td>Nicaragua</td>\n",
       "    </tr>\n",
       "    <tr>\n",
       "      <th>2</th>\n",
       "      <td>118744</td>\n",
       "      <td>M</td>\n",
       "      <td>23</td>\n",
       "      <td>Colombia</td>\n",
       "    </tr>\n",
       "    <tr>\n",
       "      <th>3</th>\n",
       "      <td>987753</td>\n",
       "      <td>F</td>\n",
       "      <td>27</td>\n",
       "      <td>Venezuela</td>\n",
       "    </tr>\n",
       "    <tr>\n",
       "      <th>4</th>\n",
       "      <td>554597</td>\n",
       "      <td>F</td>\n",
       "      <td>20</td>\n",
       "      <td>Spain</td>\n",
       "    </tr>\n",
       "  </tbody>\n",
       "</table>\n",
       "</div>"
      ],
      "text/plain": [
       "   user_id sex  age    country\n",
       "0   765821   M   20     Mexico\n",
       "1   343561   F   27  Nicaragua\n",
       "2   118744   M   23   Colombia\n",
       "3   987753   F   27  Venezuela\n",
       "4   554597   F   20      Spain"
      ]
     },
     "execution_count": 6,
     "metadata": {},
     "output_type": "execute_result"
    }
   ],
   "source": [
    "df_user.head()"
   ]
  },
  {
   "cell_type": "code",
   "execution_count": 7,
   "metadata": {},
   "outputs": [
    {
     "name": "stdout",
     "output_type": "stream",
     "text": [
      "How many examples not caught by both tables:  454\n"
     ]
    }
   ],
   "source": [
    "# check if there is any user id missing in either dataset\n",
    "print(\"How many examples not caught by both tables: \",len(pd.merge(df_user, df_test, how='outer', on=\"user_id\")) -\n",
    "     len(pd.merge(df_user, df_test, how='inner', on=\"user_id\")))"
   ]
  },
  {
   "cell_type": "markdown",
   "metadata": {},
   "source": [
    "So there are 454 data not being recognized by both dataset, meaning that 454 user information are missing in either test data or user information table. Which one is it? Let's find out."
   ]
  },
  {
   "cell_type": "code",
   "execution_count": 8,
   "metadata": {},
   "outputs": [
    {
     "data": {
      "text/plain": [
       "452867"
      ]
     },
     "execution_count": 8,
     "metadata": {},
     "output_type": "execute_result"
    }
   ],
   "source": [
    "len(pd.merge(df_user, df_test, how='left', on=\"user_id\"))"
   ]
  },
  {
   "cell_type": "code",
   "execution_count": 9,
   "metadata": {},
   "outputs": [
    {
     "data": {
      "text/plain": [
       "453321"
      ]
     },
     "execution_count": 9,
     "metadata": {},
     "output_type": "execute_result"
    }
   ],
   "source": [
    "len(pd.merge(df_user, df_test, how='right', on=\"user_id\"))"
   ]
  },
  {
   "cell_type": "markdown",
   "metadata": {},
   "source": [
    "So we know that test data have some records that are lacking in any user information. Let's join them so that we don't lose any data.\n",
    "\n",
    "<mark>**When joining, we have to be careful to do not lose the user ids in the test table, but not in the user table.**</mark>"
   ]
  },
  {
   "cell_type": "code",
   "execution_count": 30,
   "metadata": {},
   "outputs": [],
   "source": [
    "df_all = pd.merge(df_user, df_test, how='right', on=\"user_id\")"
   ]
  },
  {
   "cell_type": "code",
   "execution_count": 31,
   "metadata": {},
   "outputs": [
    {
     "data": {
      "text/plain": [
       "(453321, 12)"
      ]
     },
     "execution_count": 31,
     "metadata": {},
     "output_type": "execute_result"
    }
   ],
   "source": [
    "df_all.shape"
   ]
  },
  {
   "cell_type": "code",
   "execution_count": 11,
   "metadata": {},
   "outputs": [
    {
     "data": {
      "text/html": [
       "<div>\n",
       "<style scoped>\n",
       "    .dataframe tbody tr th:only-of-type {\n",
       "        vertical-align: middle;\n",
       "    }\n",
       "\n",
       "    .dataframe tbody tr th {\n",
       "        vertical-align: top;\n",
       "    }\n",
       "\n",
       "    .dataframe thead th {\n",
       "        text-align: right;\n",
       "    }\n",
       "</style>\n",
       "<table border=\"1\" class=\"dataframe\">\n",
       "  <thead>\n",
       "    <tr style=\"text-align: right;\">\n",
       "      <th></th>\n",
       "      <th>user_id</th>\n",
       "      <th>sex</th>\n",
       "      <th>age</th>\n",
       "      <th>country</th>\n",
       "      <th>date</th>\n",
       "      <th>source</th>\n",
       "      <th>device</th>\n",
       "      <th>browser_language</th>\n",
       "      <th>ads_channel</th>\n",
       "      <th>browser</th>\n",
       "      <th>conversion</th>\n",
       "      <th>test</th>\n",
       "    </tr>\n",
       "  </thead>\n",
       "  <tbody>\n",
       "    <tr>\n",
       "      <th>0</th>\n",
       "      <td>765821</td>\n",
       "      <td>M</td>\n",
       "      <td>20</td>\n",
       "      <td>Mexico</td>\n",
       "      <td>2015-12-02</td>\n",
       "      <td>Ads</td>\n",
       "      <td>Mobile</td>\n",
       "      <td>ES</td>\n",
       "      <td>Yahoo</td>\n",
       "      <td>Android_App</td>\n",
       "      <td>0</td>\n",
       "      <td>1</td>\n",
       "    </tr>\n",
       "    <tr>\n",
       "      <th>1</th>\n",
       "      <td>343561</td>\n",
       "      <td>F</td>\n",
       "      <td>27</td>\n",
       "      <td>Nicaragua</td>\n",
       "      <td>2015-12-04</td>\n",
       "      <td>Ads</td>\n",
       "      <td>Web</td>\n",
       "      <td>ES</td>\n",
       "      <td>Facebook</td>\n",
       "      <td>Safari</td>\n",
       "      <td>0</td>\n",
       "      <td>0</td>\n",
       "    </tr>\n",
       "    <tr>\n",
       "      <th>2</th>\n",
       "      <td>118744</td>\n",
       "      <td>M</td>\n",
       "      <td>23</td>\n",
       "      <td>Colombia</td>\n",
       "      <td>2015-11-30</td>\n",
       "      <td>Ads</td>\n",
       "      <td>Mobile</td>\n",
       "      <td>ES</td>\n",
       "      <td>Facebook</td>\n",
       "      <td>Android_App</td>\n",
       "      <td>0</td>\n",
       "      <td>1</td>\n",
       "    </tr>\n",
       "    <tr>\n",
       "      <th>3</th>\n",
       "      <td>987753</td>\n",
       "      <td>F</td>\n",
       "      <td>27</td>\n",
       "      <td>Venezuela</td>\n",
       "      <td>2015-12-04</td>\n",
       "      <td>SEO</td>\n",
       "      <td>Web</td>\n",
       "      <td>ES</td>\n",
       "      <td>NaN</td>\n",
       "      <td>IE</td>\n",
       "      <td>0</td>\n",
       "      <td>1</td>\n",
       "    </tr>\n",
       "    <tr>\n",
       "      <th>4</th>\n",
       "      <td>554597</td>\n",
       "      <td>F</td>\n",
       "      <td>20</td>\n",
       "      <td>Spain</td>\n",
       "      <td>2015-12-04</td>\n",
       "      <td>Direct</td>\n",
       "      <td>Web</td>\n",
       "      <td>ES</td>\n",
       "      <td>NaN</td>\n",
       "      <td>Chrome</td>\n",
       "      <td>0</td>\n",
       "      <td>0</td>\n",
       "    </tr>\n",
       "  </tbody>\n",
       "</table>\n",
       "</div>"
      ],
      "text/plain": [
       "   user_id sex  age    country        date  source  device browser_language  \\\n",
       "0   765821   M   20     Mexico  2015-12-02     Ads  Mobile               ES   \n",
       "1   343561   F   27  Nicaragua  2015-12-04     Ads     Web               ES   \n",
       "2   118744   M   23   Colombia  2015-11-30     Ads  Mobile               ES   \n",
       "3   987753   F   27  Venezuela  2015-12-04     SEO     Web               ES   \n",
       "4   554597   F   20      Spain  2015-12-04  Direct     Web               ES   \n",
       "\n",
       "  ads_channel      browser  conversion  test  \n",
       "0       Yahoo  Android_App           0     1  \n",
       "1    Facebook       Safari           0     0  \n",
       "2    Facebook  Android_App           0     1  \n",
       "3         NaN           IE           0     1  \n",
       "4         NaN       Chrome           0     0  "
      ]
     },
     "execution_count": 11,
     "metadata": {},
     "output_type": "execute_result"
    }
   ],
   "source": [
    "df_all.head()"
   ]
  },
  {
   "cell_type": "code",
   "execution_count": 32,
   "metadata": {},
   "outputs": [
    {
     "data": {
      "text/html": [
       "<div>\n",
       "<style scoped>\n",
       "    .dataframe tbody tr th:only-of-type {\n",
       "        vertical-align: middle;\n",
       "    }\n",
       "\n",
       "    .dataframe tbody tr th {\n",
       "        vertical-align: top;\n",
       "    }\n",
       "\n",
       "    .dataframe thead th {\n",
       "        text-align: right;\n",
       "    }\n",
       "</style>\n",
       "<table border=\"1\" class=\"dataframe\">\n",
       "  <thead>\n",
       "    <tr style=\"text-align: right;\">\n",
       "      <th></th>\n",
       "      <th>sex</th>\n",
       "      <th>country</th>\n",
       "      <th>date</th>\n",
       "      <th>source</th>\n",
       "      <th>device</th>\n",
       "      <th>browser_language</th>\n",
       "      <th>ads_channel</th>\n",
       "      <th>browser</th>\n",
       "    </tr>\n",
       "  </thead>\n",
       "  <tbody>\n",
       "    <tr>\n",
       "      <th>count</th>\n",
       "      <td>452867</td>\n",
       "      <td>452867</td>\n",
       "      <td>453321</td>\n",
       "      <td>453321</td>\n",
       "      <td>453321</td>\n",
       "      <td>453321</td>\n",
       "      <td>181877</td>\n",
       "      <td>453321</td>\n",
       "    </tr>\n",
       "    <tr>\n",
       "      <th>unique</th>\n",
       "      <td>2</td>\n",
       "      <td>17</td>\n",
       "      <td>5</td>\n",
       "      <td>3</td>\n",
       "      <td>2</td>\n",
       "      <td>3</td>\n",
       "      <td>5</td>\n",
       "      <td>7</td>\n",
       "    </tr>\n",
       "    <tr>\n",
       "      <th>top</th>\n",
       "      <td>M</td>\n",
       "      <td>Mexico</td>\n",
       "      <td>2015-12-04</td>\n",
       "      <td>Ads</td>\n",
       "      <td>Web</td>\n",
       "      <td>ES</td>\n",
       "      <td>Facebook</td>\n",
       "      <td>Android_App</td>\n",
       "    </tr>\n",
       "    <tr>\n",
       "      <th>freq</th>\n",
       "      <td>264485</td>\n",
       "      <td>128484</td>\n",
       "      <td>141163</td>\n",
       "      <td>181877</td>\n",
       "      <td>251565</td>\n",
       "      <td>377547</td>\n",
       "      <td>68425</td>\n",
       "      <td>155135</td>\n",
       "    </tr>\n",
       "  </tbody>\n",
       "</table>\n",
       "</div>"
      ],
      "text/plain": [
       "           sex country        date  source  device browser_language  \\\n",
       "count   452867  452867      453321  453321  453321           453321   \n",
       "unique       2      17           5       3       2                3   \n",
       "top          M  Mexico  2015-12-04     Ads     Web               ES   \n",
       "freq    264485  128484      141163  181877  251565           377547   \n",
       "\n",
       "       ads_channel      browser  \n",
       "count       181877       453321  \n",
       "unique           5            7  \n",
       "top       Facebook  Android_App  \n",
       "freq         68425       155135  "
      ]
     },
     "execution_count": 32,
     "metadata": {},
     "output_type": "execute_result"
    }
   ],
   "source": [
    "# inspect variables\n",
    "df_all.describe(include = \"object\")"
   ]
  },
  {
   "cell_type": "code",
   "execution_count": 33,
   "metadata": {},
   "outputs": [
    {
     "data": {
      "text/plain": [
       "count    452867.000000\n",
       "mean         27.130740\n",
       "std           6.776678\n",
       "min          18.000000\n",
       "25%          22.000000\n",
       "50%          26.000000\n",
       "75%          31.000000\n",
       "max          70.000000\n",
       "Name: age, dtype: float64"
      ]
     },
     "execution_count": 33,
     "metadata": {},
     "output_type": "execute_result"
    }
   ],
   "source": [
    "df_all[\"age\"].describe()"
   ]
  },
  {
   "cell_type": "markdown",
   "metadata": {},
   "source": [
    "Distribution of age seems fine, without suspicious age data."
   ]
  },
  {
   "cell_type": "code",
   "execution_count": 34,
   "metadata": {},
   "outputs": [
    {
     "data": {
      "text/plain": [
       "user_id                  0\n",
       "sex                    454\n",
       "age                    454\n",
       "country                454\n",
       "date                     0\n",
       "source                   0\n",
       "device                   0\n",
       "browser_language         0\n",
       "ads_channel         271444\n",
       "browser                  0\n",
       "conversion               0\n",
       "test                     0\n",
       "dtype: int64"
      ]
     },
     "execution_count": 34,
     "metadata": {},
     "output_type": "execute_result"
    }
   ],
   "source": [
    "# check missing value\n",
    "df_all.isnull().sum()"
   ]
  },
  {
   "cell_type": "markdown",
   "metadata": {},
   "source": [
    "So it seems that ads_channel has most missing values, and more than 50% are missing values. The missing sex, age, country information are due to the lack of user information from user table when joining. Let's see what insight this ads channel gives us first before we decide what to do with the missing value. "
   ]
  },
  {
   "cell_type": "code",
   "execution_count": 35,
   "metadata": {},
   "outputs": [
    {
     "data": {
      "image/png": "[encoded data removed]",
      "text/plain": [
       "<Figure size 432x288 with 1 Axes>"
      ]
     },
     "metadata": {},
     "output_type": "display_data"
    }
   ],
   "source": [
    "sns.set(style=\"whitegrid\")\n",
    "ax = sns.countplot(x=\"ads_channel\", hue=\"conversion\", data=df_all,palette = \"hls\").set_title(\"Count Bar Plot for Ads Channel for Converted/Not Converted\")"
   ]
  },
  {
   "cell_type": "markdown",
   "metadata": {},
   "source": [
    "With Facebook and Google being two most popular ads channel, let's now see which one ads channel is more pruned to convert."
   ]
  },
  {
   "cell_type": "code",
   "execution_count": 36,
   "metadata": {},
   "outputs": [],
   "source": [
    "def plot_conditional(feature_name, df_convert, df, figsizex, figsizey, title):\n",
    "    # add sorting function\n",
    "    probability = []\n",
    "    feature_values = list(df.groupby(feature_name).groups.keys())\n",
    "\n",
    "    for v in feature_values:\n",
    "        probability.append(len(df_convert.groupby(feature_name).get_group(v)) / len(df.groupby(feature_name).get_group(v)))\n",
    "\n",
    "    print(probability)\n",
    "\n",
    "    # visualization\n",
    "    height = probability\n",
    "    bars = feature_values\n",
    "    colors = [\"orange\",\"lightpink\",\"olive\",\"lightblue\",\"salmon\"]\n",
    "    y_pos = np.arange(len(bars))\n",
    "\n",
    "    plt.figure(figsize = (figsizex,figsizey))\n",
    "    plt.bar(y_pos,height, color = colors)\n",
    "    plt.xticks(y_pos, bars)\n",
    "    plt.title(title)\n",
    "    plt.ylabel(\"Probability\")\n",
    "    plt.show() # supress messages"
   ]
  },
  {
   "cell_type": "code",
   "execution_count": 37,
   "metadata": {},
   "outputs": [],
   "source": [
    "converted = df_all[(df_all[\"conversion\"] == 1)]"
   ]
  },
  {
   "cell_type": "code",
   "execution_count": 38,
   "metadata": {},
   "outputs": [
    {
     "name": "stdout",
     "output_type": "stream",
     "text": [
      "[0.04887135656366426, 0.05077091706247717, 0.049163977706072164, 0.044358727097396335, 0.05026426098049936]\n"
     ]
    },
    {
     "data": {
      "image/png": "[encoded data removed]",
      "text/plain": [
       "<Figure size 360x216 with 1 Axes>"
      ]
     },
     "metadata": {},
     "output_type": "display_data"
    }
   ],
   "source": [
    "plot_conditional(\"ads_channel\",converted,df_all,5,3,\"Probability (X = Converted | Y = Ads Channel)\")"
   ]
  },
  {
   "cell_type": "markdown",
   "metadata": {},
   "source": [
    "Intersting! So it appears that all ads channel are actually almost equal likely to conversion. With this finding, we can remove the ads channel variable from our data for further analysis and modeling for the conversion."
   ]
  },
  {
   "cell_type": "code",
   "execution_count": 39,
   "metadata": {},
   "outputs": [],
   "source": [
    "df_all = df_all.drop(columns = \"ads_channel\")"
   ]
  },
  {
   "cell_type": "code",
   "execution_count": 40,
   "metadata": {},
   "outputs": [
    {
     "data": {
      "text/plain": [
       "(453321, 11)"
      ]
     },
     "execution_count": 40,
     "metadata": {},
     "output_type": "execute_result"
    }
   ],
   "source": [
    "df_all.shape"
   ]
  },
  {
   "cell_type": "markdown",
   "metadata": {},
   "source": [
    "# Validate the test result"
   ]
  },
  {
   "cell_type": "code",
   "execution_count": 41,
   "metadata": {},
   "outputs": [],
   "source": [
    "test_group = df_all[(df_all[\"test\"] == 1)]\n",
    "control_group = df_all[(df_all[\"test\"] == 0)]"
   ]
  },
  {
   "cell_type": "code",
   "execution_count": 44,
   "metadata": {},
   "outputs": [
    {
     "data": {
      "text/plain": [
       "0.055178690306651276"
      ]
     },
     "execution_count": 44,
     "metadata": {},
     "output_type": "execute_result"
    }
   ],
   "source": [
    "a = len(control_group[(control_group[\"conversion\"] == 1)]) / len(control_group)\n",
    "a"
   ]
  },
  {
   "cell_type": "code",
   "execution_count": 45,
   "metadata": {},
   "outputs": [
    {
     "data": {
      "text/plain": [
       "0.043424713982118966"
      ]
     },
     "execution_count": 45,
     "metadata": {},
     "output_type": "execute_result"
    }
   ],
   "source": [
    "b = len(test_group[(test_group[\"conversion\"] == 1)]) / len(test_group)\n",
    "b"
   ]
  },
  {
   "cell_type": "code",
   "execution_count": 46,
   "metadata": {},
   "outputs": [
    {
     "name": "stdout",
     "output_type": "stream",
     "text": [
      "% difference in test and control group: -21.3017%\n"
     ]
    }
   ],
   "source": [
    "print(\"% difference in test and control group: {}%\"\n",
    "      .format(round(((b - a) * 100 / a),4)))"
   ]
  },
  {
   "cell_type": "markdown",
   "metadata": {},
   "source": [
    "Based on the above matrix, the test group indeed does worse than control group in terms of conversion rate. So the test result is negative and non-localized translator has a better performance based on the conversion result. Testing group has the conversion rate decreased by ~20%.\n",
    "\n",
    "So what caused the decrement in conversion rate after adopting localized translator? Some possibilities:\n",
    "- the problem of the new translator. Is the localized translator really localized? We can ask for the suggestion from a third-party to see if the localized translator is functioning well.\n",
    "- other factors affect the test group performance, not controlling the similar variables across test group and control group\n",
    "\n",
    "Let's see whether the Spain users convert more than other countries, test group or not."
   ]
  },
  {
   "cell_type": "code",
   "execution_count": 89,
   "metadata": {},
   "outputs": [],
   "source": [
    "test_group_spain = df_all[(df_all[\"country\"].isnull() == False) & (df_all[\"test\"] == 0) & (df_all[\"country\"] == \"Spain\")]\n",
    "test_group_spain_convert = test_group_spain[(test_group_spain[\"conversion\"] == 1)]"
   ]
  },
  {
   "cell_type": "code",
   "execution_count": 86,
   "metadata": {},
   "outputs": [],
   "source": [
    "all_group_non_spain = df_all[(df_all[\"country\"].isnull() == False) & (df_all[\"country\"] != \"Spain\")]\n",
    "all_group_non_spain_convert = all_group_non_spain[(all_group_non_spain[\"conversion\"] == 1)]"
   ]
  },
  {
   "cell_type": "code",
   "execution_count": 91,
   "metadata": {},
   "outputs": [
    {
     "data": {
      "text/plain": [
       "0.07971882121200417"
      ]
     },
     "execution_count": 91,
     "metadata": {},
     "output_type": "execute_result"
    }
   ],
   "source": [
    "len(test_group_spain_convert) / len(test_group_spain)"
   ]
  },
  {
   "cell_type": "code",
   "execution_count": 92,
   "metadata": {},
   "outputs": [
    {
     "data": {
      "text/plain": [
       "0.04566613062069137"
      ]
     },
     "execution_count": 92,
     "metadata": {},
     "output_type": "execute_result"
    }
   ],
   "source": [
    "len(all_group_non_spain_convert) / len(all_group_non_spain)"
   ]
  },
  {
   "cell_type": "markdown",
   "metadata": {},
   "source": [
    "So we know that Spain users convert more than all other countries. Let's further divide users in all other countries based on their test/control group to see if there's anything go wrong with the experiment."
   ]
  },
  {
   "cell_type": "code",
   "execution_count": 98,
   "metadata": {},
   "outputs": [],
   "source": [
    "all_group_non_spain_test = all_group_non_spain[(all_group_non_spain[\"test\"] == 1)]\n",
    "all_group_non_spain_control = all_group_non_spain[(all_group_non_spain[\"test\"] == 0)]"
   ]
  },
  {
   "cell_type": "code",
   "execution_count": 113,
   "metadata": {},
   "outputs": [],
   "source": [
    "# do a Welch's 2 sample t-test (assume unequal sample sizes)\n",
    "# https://en.wikipedia.org/wiki/Welch's_t-test\n",
    "# t-score larger than 0.05 or 0.1, we cannot reject the null hypothesis of identical average scores. \n",
    "# If the p-value is smaller than the threshold, e.g. 1%, 5% or 10%, \n",
    "# then we reject the null hypothesis of equal averages.\n",
    "from scipy import stats\n",
    "from statistics import mean"
   ]
  },
  {
   "cell_type": "code",
   "execution_count": 115,
   "metadata": {},
   "outputs": [
    {
     "data": {
      "text/plain": [
       "Ttest_indResult(statistic=-7.353895203080277, pvalue=1.928917857779903e-13)"
      ]
     },
     "execution_count": 115,
     "metadata": {},
     "output_type": "execute_result"
    }
   ],
   "source": [
    "stats.ttest_ind(all_group_non_spain_test[\"conversion\"].values.tolist(), all_group_non_spain_control[\"conversion\"].values.tolist(),\n",
    "                axis = 0, equal_var = False)"
   ]
  },
  {
   "cell_type": "code",
   "execution_count": 114,
   "metadata": {},
   "outputs": [
    {
     "data": {
      "text/plain": [
       "0.043411161678422794"
      ]
     },
     "execution_count": 114,
     "metadata": {},
     "output_type": "execute_result"
    }
   ],
   "source": [
    "mean(all_group_non_spain_test[\"conversion\"].values.tolist())"
   ]
  },
  {
   "cell_type": "code",
   "execution_count": 116,
   "metadata": {},
   "outputs": [
    {
     "data": {
      "text/plain": [
       "0.04829179055749524"
      ]
     },
     "execution_count": 116,
     "metadata": {},
     "output_type": "execute_result"
    }
   ],
   "source": [
    "mean(all_group_non_spain_control[\"conversion\"].values.tolist())"
   ]
  },
  {
   "cell_type": "code",
   "execution_count": 118,
   "metadata": {},
   "outputs": [
    {
     "data": {
      "text/plain": [
       "-10.106539481615755"
      ]
     },
     "execution_count": 118,
     "metadata": {},
     "output_type": "execute_result"
    }
   ],
   "source": [
    "(0.043411161678422794 - 0.04829179055749524) *100 / 0.04829179055749524"
   ]
  },
  {
   "cell_type": "markdown",
   "metadata": {},
   "source": [
    "So based on the t-test result we reject the null hypothesis of equal averages for control and test group of non-spain users. The t-test result is far from normal range. Therefore, there must be something wrong in the test set/control set for users in non-spain countries because they have different mean. Test group has a 10% lower conversion average than the control group. That 10% drop would be dramatic if it were true. The most likely reason for weird A/B test results are:\n",
    "    - We didn’t collect enough data.\n",
    "    - Some bias has been introduced in the experiment so that test/control people are not really random.\n",
    "    \n",
    "Let's take a further look into our data to see whether the test design is off."
   ]
  },
  {
   "cell_type": "markdown",
   "metadata": {},
   "source": [
    "# Exploratory Data Analysis"
   ]
  },
  {
   "cell_type": "code",
   "execution_count": 29,
   "metadata": {},
   "outputs": [],
   "source": [
    "converted = df_all[(df_all[\"conversion\"] == 1)]\n",
    "not_converted = df_all[(df_all[\"conversion\"] == 0)]"
   ]
  },
  {
   "cell_type": "code",
   "execution_count": 25,
   "metadata": {},
   "outputs": [
    {
     "data": {
      "image/png": "[encoded data removed]",
      "text/plain": [
       "<Figure size 432x288 with 1 Axes>"
      ]
     },
     "metadata": {},
     "output_type": "display_data"
    }
   ],
   "source": [
    "ax = sns.boxplot(x = \"conversion\", y = \"age\",data = df_all)"
   ]
  },
  {
   "cell_type": "code",
   "execution_count": 48,
   "metadata": {},
   "outputs": [
    {
     "data": {
      "image/png": "[encoded data removed]",
      "text/plain": [
       "<Figure size 720x504 with 1 Axes>"
      ]
     },
     "metadata": {},
     "output_type": "display_data"
    }
   ],
   "source": [
    "from scipy.stats import norm\n",
    "plt.figure(figsize = (10,7))\n",
    "sns.distplot(converted[\"age\"],kde=True)\n",
    "sns.distplot(not_converted[\"age\"],kde = True)\n",
    "plt.legend(labels=['converted','not_converted'])\n",
    "plt.show()"
   ]
  },
  {
   "cell_type": "markdown",
   "metadata": {},
   "source": [
    "Not converted users have a longer tail that is more skewed to right, meaning they have older user base. Meanwhile, converted users have larger probability of young users (20 ~ 35 yrs)."
   ]
  },
  {
   "cell_type": "code",
   "execution_count": 30,
   "metadata": {},
   "outputs": [
    {
     "data": {
      "image/png": "[encoded data removed]",
      "text/plain": [
       "<Figure size 432x288 with 1 Axes>"
      ]
     },
     "metadata": {},
     "output_type": "display_data"
    }
   ],
   "source": [
    "ax = sns.countplot(x = \"conversion\", hue = \"sex\", data = df_all,palette = \"Set2\")"
   ]
  },
  {
   "cell_type": "code",
   "execution_count": 42,
   "metadata": {},
   "outputs": [],
   "source": [
    "sns.set_context(\"notebook\", font_scale=1, rc={\"lines.linewidth\": 10})"
   ]
  },
  {
   "cell_type": "code",
   "execution_count": 120,
   "metadata": {},
   "outputs": [
    {
     "name": "stdout",
     "output_type": "stream",
     "text": [
      "[0.013994393683264503, 0.04863358504135203, 0.04970360237118103, 0.05133185349611543, 0.05349406667922396, 0.049072035231204784, 0.05076452599388379, 0.04965289256198347, 0.04925303454715219, 0.05034089847763146, 0.05339878030641083, 0.0480890913692736, 0.04886348169320811, 0.05025842095883087, 0.07971882121200417, 0.01282051282051282, 0.049666188307231546]\n"
     ]
    },
    {
     "data": {
      "image/png": "[encoded data removed]",
      "text/plain": [
       "<Figure size 1296x576 with 1 Axes>"
      ]
     },
     "metadata": {},
     "output_type": "display_data"
    }
   ],
   "source": [
    "plot_conditional(\"country\",converted,df_all,18,8,\"Pr (converted | country)\")"
   ]
  },
  {
   "cell_type": "markdown",
   "metadata": {},
   "source": [
    "So it seems that Spain users are more pruned to convert than others, and Uruguay and Argentina users are less pruned to convert, while the rest countries perform almost equal likely."
   ]
  },
  {
   "cell_type": "code",
   "execution_count": 136,
   "metadata": {},
   "outputs": [
    {
     "data": {
      "text/html": [
       "<div>\n",
       "<style scoped>\n",
       "    .dataframe tbody tr th:only-of-type {\n",
       "        vertical-align: middle;\n",
       "    }\n",
       "\n",
       "    .dataframe tbody tr th {\n",
       "        vertical-align: top;\n",
       "    }\n",
       "\n",
       "    .dataframe thead th {\n",
       "        text-align: right;\n",
       "    }\n",
       "</style>\n",
       "<table border=\"1\" class=\"dataframe\">\n",
       "  <thead>\n",
       "    <tr style=\"text-align: right;\">\n",
       "      <th></th>\n",
       "      <th>count</th>\n",
       "      <th>unique</th>\n",
       "      <th>top</th>\n",
       "      <th>freq</th>\n",
       "    </tr>\n",
       "    <tr>\n",
       "      <th>date</th>\n",
       "      <th></th>\n",
       "      <th></th>\n",
       "      <th></th>\n",
       "      <th></th>\n",
       "    </tr>\n",
       "  </thead>\n",
       "  <tbody>\n",
       "    <tr>\n",
       "      <th>2015-11-30</th>\n",
       "      <td>71025</td>\n",
       "      <td>1</td>\n",
       "      <td>2015-11-30</td>\n",
       "      <td>71025</td>\n",
       "    </tr>\n",
       "    <tr>\n",
       "      <th>2015-12-01</th>\n",
       "      <td>70991</td>\n",
       "      <td>1</td>\n",
       "      <td>2015-12-01</td>\n",
       "      <td>70991</td>\n",
       "    </tr>\n",
       "    <tr>\n",
       "      <th>2015-12-02</th>\n",
       "      <td>70649</td>\n",
       "      <td>1</td>\n",
       "      <td>2015-12-02</td>\n",
       "      <td>70649</td>\n",
       "    </tr>\n",
       "    <tr>\n",
       "      <th>2015-12-03</th>\n",
       "      <td>99493</td>\n",
       "      <td>1</td>\n",
       "      <td>2015-12-03</td>\n",
       "      <td>99493</td>\n",
       "    </tr>\n",
       "    <tr>\n",
       "      <th>2015-12-04</th>\n",
       "      <td>141163</td>\n",
       "      <td>1</td>\n",
       "      <td>2015-12-04</td>\n",
       "      <td>141163</td>\n",
       "    </tr>\n",
       "  </tbody>\n",
       "</table>\n",
       "</div>"
      ],
      "text/plain": [
       "             count unique         top    freq\n",
       "date                                         \n",
       "2015-11-30   71025      1  2015-11-30   71025\n",
       "2015-12-01   70991      1  2015-12-01   70991\n",
       "2015-12-02   70649      1  2015-12-02   70649\n",
       "2015-12-03   99493      1  2015-12-03   99493\n",
       "2015-12-04  141163      1  2015-12-04  141163"
      ]
     },
     "execution_count": 136,
     "metadata": {},
     "output_type": "execute_result"
    }
   ],
   "source": [
    "# Time analysis\n",
    "df_all.groupby(\"date\")[\"date\"].describe()"
   ]
  },
  {
   "cell_type": "code",
   "execution_count": 141,
   "metadata": {},
   "outputs": [
    {
     "data": {
      "text/html": [
       "<div>\n",
       "<style scoped>\n",
       "    .dataframe tbody tr th:only-of-type {\n",
       "        vertical-align: middle;\n",
       "    }\n",
       "\n",
       "    .dataframe tbody tr th {\n",
       "        vertical-align: top;\n",
       "    }\n",
       "\n",
       "    .dataframe thead tr th {\n",
       "        text-align: left;\n",
       "    }\n",
       "\n",
       "    .dataframe thead tr:last-of-type th {\n",
       "        text-align: right;\n",
       "    }\n",
       "</style>\n",
       "<table border=\"1\" class=\"dataframe\">\n",
       "  <thead>\n",
       "    <tr>\n",
       "      <th></th>\n",
       "      <th></th>\n",
       "      <th colspan=\"8\" halign=\"left\">user_id</th>\n",
       "      <th colspan=\"5\" halign=\"left\">age</th>\n",
       "      <th colspan=\"8\" halign=\"left\">test</th>\n",
       "    </tr>\n",
       "    <tr>\n",
       "      <th></th>\n",
       "      <th></th>\n",
       "      <th>count</th>\n",
       "      <th>mean</th>\n",
       "      <th>std</th>\n",
       "      <th>min</th>\n",
       "      <th>25%</th>\n",
       "      <th>50%</th>\n",
       "      <th>75%</th>\n",
       "      <th>max</th>\n",
       "      <th>count</th>\n",
       "      <th>mean</th>\n",
       "      <th>...</th>\n",
       "      <th>75%</th>\n",
       "      <th>max</th>\n",
       "      <th>count</th>\n",
       "      <th>mean</th>\n",
       "      <th>std</th>\n",
       "      <th>min</th>\n",
       "      <th>25%</th>\n",
       "      <th>50%</th>\n",
       "      <th>75%</th>\n",
       "      <th>max</th>\n",
       "    </tr>\n",
       "    <tr>\n",
       "      <th>date</th>\n",
       "      <th>conversion</th>\n",
       "      <th></th>\n",
       "      <th></th>\n",
       "      <th></th>\n",
       "      <th></th>\n",
       "      <th></th>\n",
       "      <th></th>\n",
       "      <th></th>\n",
       "      <th></th>\n",
       "      <th></th>\n",
       "      <th></th>\n",
       "      <th></th>\n",
       "      <th></th>\n",
       "      <th></th>\n",
       "      <th></th>\n",
       "      <th></th>\n",
       "      <th></th>\n",
       "      <th></th>\n",
       "      <th></th>\n",
       "      <th></th>\n",
       "      <th></th>\n",
       "      <th></th>\n",
       "    </tr>\n",
       "  </thead>\n",
       "  <tbody>\n",
       "    <tr>\n",
       "      <th rowspan=\"2\" valign=\"top\">2015-11-30</th>\n",
       "      <th>0</th>\n",
       "      <td>32396.0</td>\n",
       "      <td>499790.548586</td>\n",
       "      <td>288585.654344</td>\n",
       "      <td>5.0</td>\n",
       "      <td>248992.00</td>\n",
       "      <td>498004.0</td>\n",
       "      <td>748334.75</td>\n",
       "      <td>999999.0</td>\n",
       "      <td>32359.0</td>\n",
       "      <td>27.110603</td>\n",
       "      <td>...</td>\n",
       "      <td>31.0</td>\n",
       "      <td>65.0</td>\n",
       "      <td>32396.0</td>\n",
       "      <td>1.0</td>\n",
       "      <td>0.0</td>\n",
       "      <td>1.0</td>\n",
       "      <td>1.0</td>\n",
       "      <td>1.0</td>\n",
       "      <td>1.0</td>\n",
       "      <td>1.0</td>\n",
       "    </tr>\n",
       "    <tr>\n",
       "      <th>1</th>\n",
       "      <td>1487.0</td>\n",
       "      <td>488538.080027</td>\n",
       "      <td>288413.515614</td>\n",
       "      <td>221.0</td>\n",
       "      <td>233386.50</td>\n",
       "      <td>476466.0</td>\n",
       "      <td>739683.00</td>\n",
       "      <td>999563.0</td>\n",
       "      <td>1485.0</td>\n",
       "      <td>27.033670</td>\n",
       "      <td>...</td>\n",
       "      <td>31.0</td>\n",
       "      <td>53.0</td>\n",
       "      <td>1487.0</td>\n",
       "      <td>1.0</td>\n",
       "      <td>0.0</td>\n",
       "      <td>1.0</td>\n",
       "      <td>1.0</td>\n",
       "      <td>1.0</td>\n",
       "      <td>1.0</td>\n",
       "      <td>1.0</td>\n",
       "    </tr>\n",
       "    <tr>\n",
       "      <th rowspan=\"2\" valign=\"top\">2015-12-01</th>\n",
       "      <th>0</th>\n",
       "      <td>32473.0</td>\n",
       "      <td>500164.665384</td>\n",
       "      <td>288753.685414</td>\n",
       "      <td>68.0</td>\n",
       "      <td>251319.00</td>\n",
       "      <td>500751.0</td>\n",
       "      <td>749056.00</td>\n",
       "      <td>999984.0</td>\n",
       "      <td>32440.0</td>\n",
       "      <td>27.079069</td>\n",
       "      <td>...</td>\n",
       "      <td>31.0</td>\n",
       "      <td>70.0</td>\n",
       "      <td>32473.0</td>\n",
       "      <td>1.0</td>\n",
       "      <td>0.0</td>\n",
       "      <td>1.0</td>\n",
       "      <td>1.0</td>\n",
       "      <td>1.0</td>\n",
       "      <td>1.0</td>\n",
       "      <td>1.0</td>\n",
       "    </tr>\n",
       "    <tr>\n",
       "      <th>1</th>\n",
       "      <td>1402.0</td>\n",
       "      <td>507168.603424</td>\n",
       "      <td>286429.980851</td>\n",
       "      <td>357.0</td>\n",
       "      <td>262805.25</td>\n",
       "      <td>511857.0</td>\n",
       "      <td>749239.75</td>\n",
       "      <td>999921.0</td>\n",
       "      <td>1400.0</td>\n",
       "      <td>27.290714</td>\n",
       "      <td>...</td>\n",
       "      <td>32.0</td>\n",
       "      <td>55.0</td>\n",
       "      <td>1402.0</td>\n",
       "      <td>1.0</td>\n",
       "      <td>0.0</td>\n",
       "      <td>1.0</td>\n",
       "      <td>1.0</td>\n",
       "      <td>1.0</td>\n",
       "      <td>1.0</td>\n",
       "      <td>1.0</td>\n",
       "    </tr>\n",
       "    <tr>\n",
       "      <th rowspan=\"2\" valign=\"top\">2015-12-02</th>\n",
       "      <th>0</th>\n",
       "      <td>32065.0</td>\n",
       "      <td>497710.029315</td>\n",
       "      <td>289308.500942</td>\n",
       "      <td>15.0</td>\n",
       "      <td>244645.00</td>\n",
       "      <td>500132.0</td>\n",
       "      <td>748778.00</td>\n",
       "      <td>999863.0</td>\n",
       "      <td>32035.0</td>\n",
       "      <td>27.132293</td>\n",
       "      <td>...</td>\n",
       "      <td>31.0</td>\n",
       "      <td>60.0</td>\n",
       "      <td>32065.0</td>\n",
       "      <td>1.0</td>\n",
       "      <td>0.0</td>\n",
       "      <td>1.0</td>\n",
       "      <td>1.0</td>\n",
       "      <td>1.0</td>\n",
       "      <td>1.0</td>\n",
       "      <td>1.0</td>\n",
       "    </tr>\n",
       "    <tr>\n",
       "      <th>1</th>\n",
       "      <td>1484.0</td>\n",
       "      <td>508487.740566</td>\n",
       "      <td>284761.267668</td>\n",
       "      <td>1078.0</td>\n",
       "      <td>269663.25</td>\n",
       "      <td>509809.0</td>\n",
       "      <td>753582.50</td>\n",
       "      <td>998489.0</td>\n",
       "      <td>1482.0</td>\n",
       "      <td>27.504723</td>\n",
       "      <td>...</td>\n",
       "      <td>32.0</td>\n",
       "      <td>56.0</td>\n",
       "      <td>1484.0</td>\n",
       "      <td>1.0</td>\n",
       "      <td>0.0</td>\n",
       "      <td>1.0</td>\n",
       "      <td>1.0</td>\n",
       "      <td>1.0</td>\n",
       "      <td>1.0</td>\n",
       "      <td>1.0</td>\n",
       "    </tr>\n",
       "    <tr>\n",
       "      <th rowspan=\"2\" valign=\"top\">2015-12-03</th>\n",
       "      <th>0</th>\n",
       "      <td>45339.0</td>\n",
       "      <td>499864.153201</td>\n",
       "      <td>288894.464529</td>\n",
       "      <td>3.0</td>\n",
       "      <td>249685.50</td>\n",
       "      <td>498402.0</td>\n",
       "      <td>750121.00</td>\n",
       "      <td>999998.0</td>\n",
       "      <td>45303.0</td>\n",
       "      <td>27.122972</td>\n",
       "      <td>...</td>\n",
       "      <td>31.0</td>\n",
       "      <td>63.0</td>\n",
       "      <td>45339.0</td>\n",
       "      <td>1.0</td>\n",
       "      <td>0.0</td>\n",
       "      <td>1.0</td>\n",
       "      <td>1.0</td>\n",
       "      <td>1.0</td>\n",
       "      <td>1.0</td>\n",
       "      <td>1.0</td>\n",
       "    </tr>\n",
       "    <tr>\n",
       "      <th>1</th>\n",
       "      <td>2081.0</td>\n",
       "      <td>496178.513695</td>\n",
       "      <td>294495.553553</td>\n",
       "      <td>305.0</td>\n",
       "      <td>241872.00</td>\n",
       "      <td>500258.0</td>\n",
       "      <td>750831.00</td>\n",
       "      <td>999929.0</td>\n",
       "      <td>2080.0</td>\n",
       "      <td>26.990385</td>\n",
       "      <td>...</td>\n",
       "      <td>31.0</td>\n",
       "      <td>55.0</td>\n",
       "      <td>2081.0</td>\n",
       "      <td>1.0</td>\n",
       "      <td>0.0</td>\n",
       "      <td>1.0</td>\n",
       "      <td>1.0</td>\n",
       "      <td>1.0</td>\n",
       "      <td>1.0</td>\n",
       "      <td>1.0</td>\n",
       "    </tr>\n",
       "    <tr>\n",
       "      <th rowspan=\"2\" valign=\"top\">2015-12-04</th>\n",
       "      <th>0</th>\n",
       "      <td>64331.0</td>\n",
       "      <td>499555.190546</td>\n",
       "      <td>287713.579949</td>\n",
       "      <td>13.0</td>\n",
       "      <td>251334.00</td>\n",
       "      <td>498608.0</td>\n",
       "      <td>748670.50</td>\n",
       "      <td>999977.0</td>\n",
       "      <td>64270.0</td>\n",
       "      <td>27.123712</td>\n",
       "      <td>...</td>\n",
       "      <td>31.0</td>\n",
       "      <td>64.0</td>\n",
       "      <td>64331.0</td>\n",
       "      <td>1.0</td>\n",
       "      <td>0.0</td>\n",
       "      <td>1.0</td>\n",
       "      <td>1.0</td>\n",
       "      <td>1.0</td>\n",
       "      <td>1.0</td>\n",
       "      <td>1.0</td>\n",
       "    </tr>\n",
       "    <tr>\n",
       "      <th>1</th>\n",
       "      <td>2925.0</td>\n",
       "      <td>498116.987009</td>\n",
       "      <td>286192.187970</td>\n",
       "      <td>706.0</td>\n",
       "      <td>248244.00</td>\n",
       "      <td>506079.0</td>\n",
       "      <td>735413.00</td>\n",
       "      <td>999624.0</td>\n",
       "      <td>2920.0</td>\n",
       "      <td>26.923288</td>\n",
       "      <td>...</td>\n",
       "      <td>31.0</td>\n",
       "      <td>61.0</td>\n",
       "      <td>2925.0</td>\n",
       "      <td>1.0</td>\n",
       "      <td>0.0</td>\n",
       "      <td>1.0</td>\n",
       "      <td>1.0</td>\n",
       "      <td>1.0</td>\n",
       "      <td>1.0</td>\n",
       "      <td>1.0</td>\n",
       "    </tr>\n",
       "  </tbody>\n",
       "</table>\n",
       "<p>10 rows × 24 columns</p>\n",
       "</div>"
      ],
      "text/plain": [
       "                       user_id                                        \\\n",
       "                         count           mean            std     min   \n",
       "date       conversion                                                  \n",
       "2015-11-30 0           32396.0  499790.548586  288585.654344     5.0   \n",
       "           1            1487.0  488538.080027  288413.515614   221.0   \n",
       "2015-12-01 0           32473.0  500164.665384  288753.685414    68.0   \n",
       "           1            1402.0  507168.603424  286429.980851   357.0   \n",
       "2015-12-02 0           32065.0  497710.029315  289308.500942    15.0   \n",
       "           1            1484.0  508487.740566  284761.267668  1078.0   \n",
       "2015-12-03 0           45339.0  499864.153201  288894.464529     3.0   \n",
       "           1            2081.0  496178.513695  294495.553553   305.0   \n",
       "2015-12-04 0           64331.0  499555.190546  287713.579949    13.0   \n",
       "           1            2925.0  498116.987009  286192.187970   706.0   \n",
       "\n",
       "                                                                     age  \\\n",
       "                             25%       50%        75%       max    count   \n",
       "date       conversion                                                      \n",
       "2015-11-30 0           248992.00  498004.0  748334.75  999999.0  32359.0   \n",
       "           1           233386.50  476466.0  739683.00  999563.0   1485.0   \n",
       "2015-12-01 0           251319.00  500751.0  749056.00  999984.0  32440.0   \n",
       "           1           262805.25  511857.0  749239.75  999921.0   1400.0   \n",
       "2015-12-02 0           244645.00  500132.0  748778.00  999863.0  32035.0   \n",
       "           1           269663.25  509809.0  753582.50  998489.0   1482.0   \n",
       "2015-12-03 0           249685.50  498402.0  750121.00  999998.0  45303.0   \n",
       "           1           241872.00  500258.0  750831.00  999929.0   2080.0   \n",
       "2015-12-04 0           251334.00  498608.0  748670.50  999977.0  64270.0   \n",
       "           1           248244.00  506079.0  735413.00  999624.0   2920.0   \n",
       "\n",
       "                                  ...                 test                 \\\n",
       "                            mean  ...   75%   max    count mean  std  min   \n",
       "date       conversion             ...                                       \n",
       "2015-11-30 0           27.110603  ...  31.0  65.0  32396.0  1.0  0.0  1.0   \n",
       "           1           27.033670  ...  31.0  53.0   1487.0  1.0  0.0  1.0   \n",
       "2015-12-01 0           27.079069  ...  31.0  70.0  32473.0  1.0  0.0  1.0   \n",
       "           1           27.290714  ...  32.0  55.0   1402.0  1.0  0.0  1.0   \n",
       "2015-12-02 0           27.132293  ...  31.0  60.0  32065.0  1.0  0.0  1.0   \n",
       "           1           27.504723  ...  32.0  56.0   1484.0  1.0  0.0  1.0   \n",
       "2015-12-03 0           27.122972  ...  31.0  63.0  45339.0  1.0  0.0  1.0   \n",
       "           1           26.990385  ...  31.0  55.0   2081.0  1.0  0.0  1.0   \n",
       "2015-12-04 0           27.123712  ...  31.0  64.0  64331.0  1.0  0.0  1.0   \n",
       "           1           26.923288  ...  31.0  61.0   2925.0  1.0  0.0  1.0   \n",
       "\n",
       "                                           \n",
       "                       25%  50%  75%  max  \n",
       "date       conversion                      \n",
       "2015-11-30 0           1.0  1.0  1.0  1.0  \n",
       "           1           1.0  1.0  1.0  1.0  \n",
       "2015-12-01 0           1.0  1.0  1.0  1.0  \n",
       "           1           1.0  1.0  1.0  1.0  \n",
       "2015-12-02 0           1.0  1.0  1.0  1.0  \n",
       "           1           1.0  1.0  1.0  1.0  \n",
       "2015-12-03 0           1.0  1.0  1.0  1.0  \n",
       "           1           1.0  1.0  1.0  1.0  \n",
       "2015-12-04 0           1.0  1.0  1.0  1.0  \n",
       "           1           1.0  1.0  1.0  1.0  \n",
       "\n",
       "[10 rows x 24 columns]"
      ]
     },
     "execution_count": 141,
     "metadata": {},
     "output_type": "execute_result"
    }
   ],
   "source": [
    "test_group.groupby([\"date\",\"conversion\"]).describe()"
   ]
  },
  {
   "cell_type": "code",
   "execution_count": 142,
   "metadata": {},
   "outputs": [
    {
     "data": {
      "text/html": [
       "<div>\n",
       "<style scoped>\n",
       "    .dataframe tbody tr th:only-of-type {\n",
       "        vertical-align: middle;\n",
       "    }\n",
       "\n",
       "    .dataframe tbody tr th {\n",
       "        vertical-align: top;\n",
       "    }\n",
       "\n",
       "    .dataframe thead tr th {\n",
       "        text-align: left;\n",
       "    }\n",
       "\n",
       "    .dataframe thead tr:last-of-type th {\n",
       "        text-align: right;\n",
       "    }\n",
       "</style>\n",
       "<table border=\"1\" class=\"dataframe\">\n",
       "  <thead>\n",
       "    <tr>\n",
       "      <th></th>\n",
       "      <th></th>\n",
       "      <th colspan=\"8\" halign=\"left\">user_id</th>\n",
       "      <th colspan=\"5\" halign=\"left\">age</th>\n",
       "      <th colspan=\"8\" halign=\"left\">test</th>\n",
       "    </tr>\n",
       "    <tr>\n",
       "      <th></th>\n",
       "      <th></th>\n",
       "      <th>count</th>\n",
       "      <th>mean</th>\n",
       "      <th>std</th>\n",
       "      <th>min</th>\n",
       "      <th>25%</th>\n",
       "      <th>50%</th>\n",
       "      <th>75%</th>\n",
       "      <th>max</th>\n",
       "      <th>count</th>\n",
       "      <th>mean</th>\n",
       "      <th>...</th>\n",
       "      <th>75%</th>\n",
       "      <th>max</th>\n",
       "      <th>count</th>\n",
       "      <th>mean</th>\n",
       "      <th>std</th>\n",
       "      <th>min</th>\n",
       "      <th>25%</th>\n",
       "      <th>50%</th>\n",
       "      <th>75%</th>\n",
       "      <th>max</th>\n",
       "    </tr>\n",
       "    <tr>\n",
       "      <th>date</th>\n",
       "      <th>conversion</th>\n",
       "      <th></th>\n",
       "      <th></th>\n",
       "      <th></th>\n",
       "      <th></th>\n",
       "      <th></th>\n",
       "      <th></th>\n",
       "      <th></th>\n",
       "      <th></th>\n",
       "      <th></th>\n",
       "      <th></th>\n",
       "      <th></th>\n",
       "      <th></th>\n",
       "      <th></th>\n",
       "      <th></th>\n",
       "      <th></th>\n",
       "      <th></th>\n",
       "      <th></th>\n",
       "      <th></th>\n",
       "      <th></th>\n",
       "      <th></th>\n",
       "      <th></th>\n",
       "    </tr>\n",
       "  </thead>\n",
       "  <tbody>\n",
       "    <tr>\n",
       "      <th rowspan=\"2\" valign=\"top\">2015-11-30</th>\n",
       "      <th>0</th>\n",
       "      <td>35011.0</td>\n",
       "      <td>500056.471966</td>\n",
       "      <td>288340.514459</td>\n",
       "      <td>2.0</td>\n",
       "      <td>250308.5</td>\n",
       "      <td>500544.0</td>\n",
       "      <td>748134.00</td>\n",
       "      <td>999980.0</td>\n",
       "      <td>34980.0</td>\n",
       "      <td>27.124900</td>\n",
       "      <td>...</td>\n",
       "      <td>31.0</td>\n",
       "      <td>63.0</td>\n",
       "      <td>35011.0</td>\n",
       "      <td>0.0</td>\n",
       "      <td>0.0</td>\n",
       "      <td>0.0</td>\n",
       "      <td>0.0</td>\n",
       "      <td>0.0</td>\n",
       "      <td>0.0</td>\n",
       "      <td>0.0</td>\n",
       "    </tr>\n",
       "    <tr>\n",
       "      <th>1</th>\n",
       "      <td>2131.0</td>\n",
       "      <td>502155.802440</td>\n",
       "      <td>292988.007100</td>\n",
       "      <td>82.0</td>\n",
       "      <td>244241.5</td>\n",
       "      <td>512111.0</td>\n",
       "      <td>752683.00</td>\n",
       "      <td>999857.0</td>\n",
       "      <td>2124.0</td>\n",
       "      <td>27.042844</td>\n",
       "      <td>...</td>\n",
       "      <td>31.0</td>\n",
       "      <td>55.0</td>\n",
       "      <td>2131.0</td>\n",
       "      <td>0.0</td>\n",
       "      <td>0.0</td>\n",
       "      <td>0.0</td>\n",
       "      <td>0.0</td>\n",
       "      <td>0.0</td>\n",
       "      <td>0.0</td>\n",
       "      <td>0.0</td>\n",
       "    </tr>\n",
       "    <tr>\n",
       "      <th rowspan=\"2\" valign=\"top\">2015-12-01</th>\n",
       "      <th>0</th>\n",
       "      <td>35126.0</td>\n",
       "      <td>497875.215510</td>\n",
       "      <td>288479.933720</td>\n",
       "      <td>25.0</td>\n",
       "      <td>246966.0</td>\n",
       "      <td>497085.0</td>\n",
       "      <td>747119.00</td>\n",
       "      <td>1000000.0</td>\n",
       "      <td>35088.0</td>\n",
       "      <td>27.144950</td>\n",
       "      <td>...</td>\n",
       "      <td>31.0</td>\n",
       "      <td>63.0</td>\n",
       "      <td>35126.0</td>\n",
       "      <td>0.0</td>\n",
       "      <td>0.0</td>\n",
       "      <td>0.0</td>\n",
       "      <td>0.0</td>\n",
       "      <td>0.0</td>\n",
       "      <td>0.0</td>\n",
       "      <td>0.0</td>\n",
       "    </tr>\n",
       "    <tr>\n",
       "      <th>1</th>\n",
       "      <td>1990.0</td>\n",
       "      <td>505239.773869</td>\n",
       "      <td>288469.378378</td>\n",
       "      <td>705.0</td>\n",
       "      <td>260325.0</td>\n",
       "      <td>503196.0</td>\n",
       "      <td>754781.25</td>\n",
       "      <td>999906.0</td>\n",
       "      <td>1987.0</td>\n",
       "      <td>26.905385</td>\n",
       "      <td>...</td>\n",
       "      <td>31.0</td>\n",
       "      <td>55.0</td>\n",
       "      <td>1990.0</td>\n",
       "      <td>0.0</td>\n",
       "      <td>0.0</td>\n",
       "      <td>0.0</td>\n",
       "      <td>0.0</td>\n",
       "      <td>0.0</td>\n",
       "      <td>0.0</td>\n",
       "      <td>0.0</td>\n",
       "    </tr>\n",
       "    <tr>\n",
       "      <th rowspan=\"2\" valign=\"top\">2015-12-02</th>\n",
       "      <th>0</th>\n",
       "      <td>35046.0</td>\n",
       "      <td>500831.099669</td>\n",
       "      <td>289031.188046</td>\n",
       "      <td>1.0</td>\n",
       "      <td>248310.0</td>\n",
       "      <td>503809.5</td>\n",
       "      <td>750799.25</td>\n",
       "      <td>999996.0</td>\n",
       "      <td>35014.0</td>\n",
       "      <td>27.157880</td>\n",
       "      <td>...</td>\n",
       "      <td>31.0</td>\n",
       "      <td>66.0</td>\n",
       "      <td>35046.0</td>\n",
       "      <td>0.0</td>\n",
       "      <td>0.0</td>\n",
       "      <td>0.0</td>\n",
       "      <td>0.0</td>\n",
       "      <td>0.0</td>\n",
       "      <td>0.0</td>\n",
       "      <td>0.0</td>\n",
       "    </tr>\n",
       "    <tr>\n",
       "      <th>1</th>\n",
       "      <td>2054.0</td>\n",
       "      <td>491908.804284</td>\n",
       "      <td>295706.286318</td>\n",
       "      <td>171.0</td>\n",
       "      <td>229965.0</td>\n",
       "      <td>488369.0</td>\n",
       "      <td>748976.25</td>\n",
       "      <td>999325.0</td>\n",
       "      <td>2050.0</td>\n",
       "      <td>27.137073</td>\n",
       "      <td>...</td>\n",
       "      <td>31.0</td>\n",
       "      <td>53.0</td>\n",
       "      <td>2054.0</td>\n",
       "      <td>0.0</td>\n",
       "      <td>0.0</td>\n",
       "      <td>0.0</td>\n",
       "      <td>0.0</td>\n",
       "      <td>0.0</td>\n",
       "      <td>0.0</td>\n",
       "      <td>0.0</td>\n",
       "    </tr>\n",
       "    <tr>\n",
       "      <th rowspan=\"2\" valign=\"top\">2015-12-03</th>\n",
       "      <th>0</th>\n",
       "      <td>49152.0</td>\n",
       "      <td>500733.338399</td>\n",
       "      <td>288189.846206</td>\n",
       "      <td>43.0</td>\n",
       "      <td>251241.5</td>\n",
       "      <td>501691.5</td>\n",
       "      <td>748643.75</td>\n",
       "      <td>999993.0</td>\n",
       "      <td>49099.0</td>\n",
       "      <td>27.119901</td>\n",
       "      <td>...</td>\n",
       "      <td>31.0</td>\n",
       "      <td>67.0</td>\n",
       "      <td>49152.0</td>\n",
       "      <td>0.0</td>\n",
       "      <td>0.0</td>\n",
       "      <td>0.0</td>\n",
       "      <td>0.0</td>\n",
       "      <td>0.0</td>\n",
       "      <td>0.0</td>\n",
       "      <td>0.0</td>\n",
       "    </tr>\n",
       "    <tr>\n",
       "      <th>1</th>\n",
       "      <td>2921.0</td>\n",
       "      <td>504270.281410</td>\n",
       "      <td>291222.923541</td>\n",
       "      <td>190.0</td>\n",
       "      <td>249794.0</td>\n",
       "      <td>509768.0</td>\n",
       "      <td>761728.00</td>\n",
       "      <td>999989.0</td>\n",
       "      <td>2917.0</td>\n",
       "      <td>27.101131</td>\n",
       "      <td>...</td>\n",
       "      <td>31.0</td>\n",
       "      <td>55.0</td>\n",
       "      <td>2921.0</td>\n",
       "      <td>0.0</td>\n",
       "      <td>0.0</td>\n",
       "      <td>0.0</td>\n",
       "      <td>0.0</td>\n",
       "      <td>0.0</td>\n",
       "      <td>0.0</td>\n",
       "      <td>0.0</td>\n",
       "    </tr>\n",
       "    <tr>\n",
       "      <th rowspan=\"2\" valign=\"top\">2015-12-04</th>\n",
       "      <th>0</th>\n",
       "      <td>69907.0</td>\n",
       "      <td>500950.203542</td>\n",
       "      <td>288986.961057</td>\n",
       "      <td>12.0</td>\n",
       "      <td>250720.0</td>\n",
       "      <td>500692.0</td>\n",
       "      <td>752041.50</td>\n",
       "      <td>999970.0</td>\n",
       "      <td>69835.0</td>\n",
       "      <td>27.163142</td>\n",
       "      <td>...</td>\n",
       "      <td>31.0</td>\n",
       "      <td>68.0</td>\n",
       "      <td>69907.0</td>\n",
       "      <td>0.0</td>\n",
       "      <td>0.0</td>\n",
       "      <td>0.0</td>\n",
       "      <td>0.0</td>\n",
       "      <td>0.0</td>\n",
       "      <td>0.0</td>\n",
       "      <td>0.0</td>\n",
       "    </tr>\n",
       "    <tr>\n",
       "      <th>1</th>\n",
       "      <td>4000.0</td>\n",
       "      <td>504839.373000</td>\n",
       "      <td>291018.678990</td>\n",
       "      <td>579.0</td>\n",
       "      <td>251608.5</td>\n",
       "      <td>503054.0</td>\n",
       "      <td>763201.25</td>\n",
       "      <td>999392.0</td>\n",
       "      <td>3999.0</td>\n",
       "      <td>27.400350</td>\n",
       "      <td>...</td>\n",
       "      <td>32.0</td>\n",
       "      <td>55.0</td>\n",
       "      <td>4000.0</td>\n",
       "      <td>0.0</td>\n",
       "      <td>0.0</td>\n",
       "      <td>0.0</td>\n",
       "      <td>0.0</td>\n",
       "      <td>0.0</td>\n",
       "      <td>0.0</td>\n",
       "      <td>0.0</td>\n",
       "    </tr>\n",
       "  </tbody>\n",
       "</table>\n",
       "<p>10 rows × 24 columns</p>\n",
       "</div>"
      ],
      "text/plain": [
       "                       user_id                                                 \\\n",
       "                         count           mean            std    min       25%   \n",
       "date       conversion                                                           \n",
       "2015-11-30 0           35011.0  500056.471966  288340.514459    2.0  250308.5   \n",
       "           1            2131.0  502155.802440  292988.007100   82.0  244241.5   \n",
       "2015-12-01 0           35126.0  497875.215510  288479.933720   25.0  246966.0   \n",
       "           1            1990.0  505239.773869  288469.378378  705.0  260325.0   \n",
       "2015-12-02 0           35046.0  500831.099669  289031.188046    1.0  248310.0   \n",
       "           1            2054.0  491908.804284  295706.286318  171.0  229965.0   \n",
       "2015-12-03 0           49152.0  500733.338399  288189.846206   43.0  251241.5   \n",
       "           1            2921.0  504270.281410  291222.923541  190.0  249794.0   \n",
       "2015-12-04 0           69907.0  500950.203542  288986.961057   12.0  250720.0   \n",
       "           1            4000.0  504839.373000  291018.678990  579.0  251608.5   \n",
       "\n",
       "                                                           age             \\\n",
       "                            50%        75%        max    count       mean   \n",
       "date       conversion                                                       \n",
       "2015-11-30 0           500544.0  748134.00   999980.0  34980.0  27.124900   \n",
       "           1           512111.0  752683.00   999857.0   2124.0  27.042844   \n",
       "2015-12-01 0           497085.0  747119.00  1000000.0  35088.0  27.144950   \n",
       "           1           503196.0  754781.25   999906.0   1987.0  26.905385   \n",
       "2015-12-02 0           503809.5  750799.25   999996.0  35014.0  27.157880   \n",
       "           1           488369.0  748976.25   999325.0   2050.0  27.137073   \n",
       "2015-12-03 0           501691.5  748643.75   999993.0  49099.0  27.119901   \n",
       "           1           509768.0  761728.00   999989.0   2917.0  27.101131   \n",
       "2015-12-04 0           500692.0  752041.50   999970.0  69835.0  27.163142   \n",
       "           1           503054.0  763201.25   999392.0   3999.0  27.400350   \n",
       "\n",
       "                       ...                 test                                \\\n",
       "                       ...   75%   max    count mean  std  min  25%  50%  75%   \n",
       "date       conversion  ...                                                      \n",
       "2015-11-30 0           ...  31.0  63.0  35011.0  0.0  0.0  0.0  0.0  0.0  0.0   \n",
       "           1           ...  31.0  55.0   2131.0  0.0  0.0  0.0  0.0  0.0  0.0   \n",
       "2015-12-01 0           ...  31.0  63.0  35126.0  0.0  0.0  0.0  0.0  0.0  0.0   \n",
       "           1           ...  31.0  55.0   1990.0  0.0  0.0  0.0  0.0  0.0  0.0   \n",
       "2015-12-02 0           ...  31.0  66.0  35046.0  0.0  0.0  0.0  0.0  0.0  0.0   \n",
       "           1           ...  31.0  53.0   2054.0  0.0  0.0  0.0  0.0  0.0  0.0   \n",
       "2015-12-03 0           ...  31.0  67.0  49152.0  0.0  0.0  0.0  0.0  0.0  0.0   \n",
       "           1           ...  31.0  55.0   2921.0  0.0  0.0  0.0  0.0  0.0  0.0   \n",
       "2015-12-04 0           ...  31.0  68.0  69907.0  0.0  0.0  0.0  0.0  0.0  0.0   \n",
       "           1           ...  32.0  55.0   4000.0  0.0  0.0  0.0  0.0  0.0  0.0   \n",
       "\n",
       "                            \n",
       "                       max  \n",
       "date       conversion       \n",
       "2015-11-30 0           0.0  \n",
       "           1           0.0  \n",
       "2015-12-01 0           0.0  \n",
       "           1           0.0  \n",
       "2015-12-02 0           0.0  \n",
       "           1           0.0  \n",
       "2015-12-03 0           0.0  \n",
       "           1           0.0  \n",
       "2015-12-04 0           0.0  \n",
       "           1           0.0  \n",
       "\n",
       "[10 rows x 24 columns]"
      ]
     },
     "execution_count": 142,
     "metadata": {},
     "output_type": "execute_result"
    }
   ],
   "source": [
    "control_group.groupby([\"date\",\"conversion\"]).describe()"
   ]
  },
  {
   "cell_type": "code",
   "execution_count": 175,
   "metadata": {},
   "outputs": [
    {
     "data": {
      "image/png": "[encoded data removed]",
      "text/plain": [
       "<Figure size 1080x720 with 1 Axes>"
      ]
     },
     "metadata": {},
     "output_type": "display_data"
    }
   ],
   "source": [
    "y = test_group.groupby([\"date\"])[\"conversion\"].mean().values.tolist()\n",
    "x = test_group.groupby([\"date\"])[\"conversion\"].mean().index.tolist()\n",
    "y1 = control_group.groupby([\"date\"])[\"conversion\"].mean().values.tolist()\n",
    "\n",
    "plt.figure(figsize = (15,10))\n",
    "plt.plot(x,y1, label = \"Control\")\n",
    "plt.plot(x,y,label = \"Test\")\n",
    "plt.legend(fontsize = 20,bbox_to_anchor=(1, 0.5))\n",
    "plt.title(\"Time Distribution for Sample Collection\",fontsize = 20)\n",
    "plt.show()"
   ]
  },
  {
   "cell_type": "markdown",
   "metadata": {},
   "source": [
    "From the plot, we notice a couple of things:\n",
    "1. Test has constantly been worse than control and there is relatively little variance across days. That\n",
    "probably means that we do have enough data, but there was some bias in the experiment set up.\n",
    "2. On a side note, we just ran it for 5 days. We should always run the test for at least 1 full week to\n",
    "capture weekly patterns, 2 weeks would be much better."
   ]
  },
  {
   "cell_type": "code",
   "execution_count": 163,
   "metadata": {},
   "outputs": [],
   "source": [
    "# some eda for other variables"
   ]
  },
  {
   "cell_type": "code",
   "execution_count": 44,
   "metadata": {},
   "outputs": [
    {
     "data": {
      "image/png": "[encoded data removed]",
      "text/plain": [
       "<Figure size 432x288 with 1 Axes>"
      ]
     },
     "metadata": {},
     "output_type": "display_data"
    }
   ],
   "source": [
    "sns.set_context(\"notebook\")\n",
    "ax = sns.countplot(x = \"conversion\", hue = \"browser\", data = df_all, palette = \"Set2\")"
   ]
  },
  {
   "cell_type": "code",
   "execution_count": 45,
   "metadata": {},
   "outputs": [
    {
     "data": {
      "image/png": "[encoded data removed]",
      "text/plain": [
       "<Figure size 432x288 with 1 Axes>"
      ]
     },
     "metadata": {},
     "output_type": "display_data"
    }
   ],
   "source": [
    "ax = sns.countplot(x = \"conversion\", hue = \"browser_language\", data = df_all, palette = \"Set2\")"
   ]
  },
  {
   "cell_type": "code",
   "execution_count": 46,
   "metadata": {},
   "outputs": [
    {
     "data": {
      "image/png": "[encoded data removed]",
      "text/plain": [
       "<Figure size 432x288 with 1 Axes>"
      ]
     },
     "metadata": {},
     "output_type": "display_data"
    }
   ],
   "source": [
    "ax = sns.countplot(x = \"conversion\", hue = \"device\", data = df_all, palette = \"Set2\")"
   ]
  },
  {
   "cell_type": "markdown",
   "metadata": {},
   "source": [
    "# Machine Learning\n",
    "We need a model to automate the test result. So given features, the model should be able to pick up the conversion estimation. The model I plan to implement is logistic regression classifier, and decision tree."
   ]
  },
  {
   "cell_type": "markdown",
   "metadata": {},
   "source": [
    "## feature engineering"
   ]
  },
  {
   "cell_type": "code",
   "execution_count": 176,
   "metadata": {},
   "outputs": [],
   "source": [
    "df_all = df_all.drop(columns = [\"user_id\"])"
   ]
  },
  {
   "cell_type": "code",
   "execution_count": 177,
   "metadata": {},
   "outputs": [],
   "source": [
    "def mapValues(feature_name,df):\n",
    "    feature_values = list(df.groupby(feature_name).groups.keys())\n",
    "    values = [i for i in range(len(feature_values))]\n",
    "    \n",
    "    return dict(zip(feature_values,values))"
   ]
  },
  {
   "cell_type": "code",
   "execution_count": 178,
   "metadata": {},
   "outputs": [],
   "source": [
    "df_all['sex'] = df_all['sex'].map({'F': 1, 'M': 0})"
   ]
  },
  {
   "cell_type": "code",
   "execution_count": 179,
   "metadata": {},
   "outputs": [],
   "source": [
    "df_all['source'] = df_all['source'].map(mapValues(\"source\",df_all))"
   ]
  },
  {
   "cell_type": "code",
   "execution_count": 180,
   "metadata": {},
   "outputs": [],
   "source": [
    "df_all[\"country\"] = df_all['country'].map(mapValues(\"country\",df_all))"
   ]
  },
  {
   "cell_type": "code",
   "execution_count": 181,
   "metadata": {},
   "outputs": [],
   "source": [
    "df_all[\"device\"] = df_all['device'].map(mapValues(\"device\",df_all))"
   ]
  },
  {
   "cell_type": "code",
   "execution_count": 182,
   "metadata": {},
   "outputs": [],
   "source": [
    "df_all[\"browser_language\"] = df_all['browser_language'].map(mapValues(\"browser_language\",df_all))"
   ]
  },
  {
   "cell_type": "code",
   "execution_count": 183,
   "metadata": {},
   "outputs": [],
   "source": [
    "df_all[\"browser\"] = df_all['browser'].map(mapValues(\"browser\",df_all))"
   ]
  },
  {
   "cell_type": "code",
   "execution_count": 184,
   "metadata": {},
   "outputs": [],
   "source": [
    "df_all[\"date\"] = df_all['date'].map(mapValues(\"date\",df_all))"
   ]
  },
  {
   "cell_type": "code",
   "execution_count": 185,
   "metadata": {},
   "outputs": [
    {
     "data": {
      "text/html": [
       "<div>\n",
       "<style scoped>\n",
       "    .dataframe tbody tr th:only-of-type {\n",
       "        vertical-align: middle;\n",
       "    }\n",
       "\n",
       "    .dataframe tbody tr th {\n",
       "        vertical-align: top;\n",
       "    }\n",
       "\n",
       "    .dataframe thead th {\n",
       "        text-align: right;\n",
       "    }\n",
       "</style>\n",
       "<table border=\"1\" class=\"dataframe\">\n",
       "  <thead>\n",
       "    <tr style=\"text-align: right;\">\n",
       "      <th></th>\n",
       "      <th>sex</th>\n",
       "      <th>age</th>\n",
       "      <th>country</th>\n",
       "      <th>date</th>\n",
       "      <th>source</th>\n",
       "      <th>device</th>\n",
       "      <th>browser_language</th>\n",
       "      <th>browser</th>\n",
       "      <th>conversion</th>\n",
       "      <th>test</th>\n",
       "    </tr>\n",
       "  </thead>\n",
       "  <tbody>\n",
       "    <tr>\n",
       "      <th>0</th>\n",
       "      <td>0.0</td>\n",
       "      <td>20.0</td>\n",
       "      <td>9.0</td>\n",
       "      <td>2</td>\n",
       "      <td>0</td>\n",
       "      <td>0</td>\n",
       "      <td>1</td>\n",
       "      <td>0</td>\n",
       "      <td>0</td>\n",
       "      <td>1</td>\n",
       "    </tr>\n",
       "    <tr>\n",
       "      <th>1</th>\n",
       "      <td>1.0</td>\n",
       "      <td>27.0</td>\n",
       "      <td>10.0</td>\n",
       "      <td>4</td>\n",
       "      <td>0</td>\n",
       "      <td>1</td>\n",
       "      <td>1</td>\n",
       "      <td>6</td>\n",
       "      <td>0</td>\n",
       "      <td>0</td>\n",
       "    </tr>\n",
       "    <tr>\n",
       "      <th>2</th>\n",
       "      <td>0.0</td>\n",
       "      <td>23.0</td>\n",
       "      <td>3.0</td>\n",
       "      <td>0</td>\n",
       "      <td>0</td>\n",
       "      <td>0</td>\n",
       "      <td>1</td>\n",
       "      <td>0</td>\n",
       "      <td>0</td>\n",
       "      <td>1</td>\n",
       "    </tr>\n",
       "    <tr>\n",
       "      <th>3</th>\n",
       "      <td>1.0</td>\n",
       "      <td>27.0</td>\n",
       "      <td>16.0</td>\n",
       "      <td>4</td>\n",
       "      <td>2</td>\n",
       "      <td>1</td>\n",
       "      <td>1</td>\n",
       "      <td>3</td>\n",
       "      <td>0</td>\n",
       "      <td>1</td>\n",
       "    </tr>\n",
       "    <tr>\n",
       "      <th>4</th>\n",
       "      <td>1.0</td>\n",
       "      <td>20.0</td>\n",
       "      <td>14.0</td>\n",
       "      <td>4</td>\n",
       "      <td>1</td>\n",
       "      <td>1</td>\n",
       "      <td>1</td>\n",
       "      <td>1</td>\n",
       "      <td>0</td>\n",
       "      <td>0</td>\n",
       "    </tr>\n",
       "  </tbody>\n",
       "</table>\n",
       "</div>"
      ],
      "text/plain": [
       "   sex   age  country  date  source  device  browser_language  browser  \\\n",
       "0  0.0  20.0      9.0     2       0       0                 1        0   \n",
       "1  1.0  27.0     10.0     4       0       1                 1        6   \n",
       "2  0.0  23.0      3.0     0       0       0                 1        0   \n",
       "3  1.0  27.0     16.0     4       2       1                 1        3   \n",
       "4  1.0  20.0     14.0     4       1       1                 1        1   \n",
       "\n",
       "   conversion  test  \n",
       "0           0     1  \n",
       "1           0     0  \n",
       "2           0     1  \n",
       "3           0     1  \n",
       "4           0     0  "
      ]
     },
     "execution_count": 185,
     "metadata": {},
     "output_type": "execute_result"
    }
   ],
   "source": [
    "df_all.head()"
   ]
  },
  {
   "cell_type": "code",
   "execution_count": 218,
   "metadata": {},
   "outputs": [],
   "source": [
    "df_all = df_all.dropna()"
   ]
  },
  {
   "cell_type": "code",
   "execution_count": 219,
   "metadata": {},
   "outputs": [
    {
     "data": {
      "text/plain": [
       "(452867, 10)"
      ]
     },
     "execution_count": 219,
     "metadata": {},
     "output_type": "execute_result"
    }
   ],
   "source": [
    "df_all.shape"
   ]
  },
  {
   "cell_type": "code",
   "execution_count": 220,
   "metadata": {},
   "outputs": [],
   "source": [
    "lst = df_all.keys().tolist()[0:8]"
   ]
  },
  {
   "cell_type": "code",
   "execution_count": 221,
   "metadata": {},
   "outputs": [
    {
     "data": {
      "text/plain": [
       "['sex',\n",
       " 'age',\n",
       " 'country',\n",
       " 'date',\n",
       " 'source',\n",
       " 'device',\n",
       " 'browser_language',\n",
       " 'browser',\n",
       " 'test']"
      ]
     },
     "execution_count": 221,
     "metadata": {},
     "output_type": "execute_result"
    }
   ],
   "source": [
    "lst.append(\"test\")\n",
    "lst"
   ]
  },
  {
   "cell_type": "code",
   "execution_count": 222,
   "metadata": {},
   "outputs": [],
   "source": [
    "from sklearn.model_selection import train_test_split"
   ]
  },
  {
   "cell_type": "code",
   "execution_count": 223,
   "metadata": {},
   "outputs": [],
   "source": [
    "df_train,df_test = train_test_split(df_all, test_size=0.25, random_state=42)"
   ]
  },
  {
   "cell_type": "code",
   "execution_count": 224,
   "metadata": {},
   "outputs": [],
   "source": [
    "x_train = df_train.loc[:,lst]"
   ]
  },
  {
   "cell_type": "code",
   "execution_count": 225,
   "metadata": {},
   "outputs": [],
   "source": [
    "y_train = df_train.iloc[:,9]"
   ]
  },
  {
   "cell_type": "code",
   "execution_count": 226,
   "metadata": {},
   "outputs": [],
   "source": [
    "x_test = df_test.loc[:,lst]\n",
    "y_test = df_test.iloc[:,9]"
   ]
  },
  {
   "cell_type": "code",
   "execution_count": 227,
   "metadata": {},
   "outputs": [],
   "source": [
    "# train model"
   ]
  },
  {
   "cell_type": "code",
   "execution_count": 228,
   "metadata": {},
   "outputs": [],
   "source": [
    "# Decision Tree\n",
    "from sklearn import tree"
   ]
  },
  {
   "cell_type": "code",
   "execution_count": 229,
   "metadata": {},
   "outputs": [
    {
     "name": "stdout",
     "output_type": "stream",
     "text": [
      "|--- test <= 0.50\n",
      "|   |--- class: 0\n",
      "|--- test >  0.50\n",
      "|   |--- class: 1\n",
      "\n"
     ]
    }
   ],
   "source": [
    "from sklearn.tree.export import export_text\n",
    "decision_tree = tree.DecisionTreeClassifier(random_state=0, max_depth=8)\n",
    "decision_tree = decision_tree.fit(x_train, y_train)\n",
    "r = export_text(decision_tree, feature_names=list(x_train))\n",
    "print(r)"
   ]
  },
  {
   "cell_type": "code",
   "execution_count": 233,
   "metadata": {},
   "outputs": [
    {
     "name": "stdout",
     "output_type": "stream",
     "text": [
      "overall accuracy on decision tree: 1.0\n"
     ]
    }
   ],
   "source": [
    "print(\"overall accuracy on decision tree:\", decision_tree.score(x_test,y_test))"
   ]
  },
  {
   "cell_type": "markdown",
   "metadata": {},
   "source": [
    "So we know that test/control group division is a deciding factor in predicting conversion rate, which further proves our previous finding that this test division has way too much effect on the final decision so there should be something wrong here. Thus, let's remove the test from input variables and see what can we got."
   ]
  },
  {
   "cell_type": "code",
   "execution_count": 234,
   "metadata": {},
   "outputs": [
    {
     "data": {
      "text/plain": [
       "['sex',\n",
       " 'age',\n",
       " 'country',\n",
       " 'date',\n",
       " 'source',\n",
       " 'device',\n",
       " 'browser_language',\n",
       " 'browser']"
      ]
     },
     "execution_count": 234,
     "metadata": {},
     "output_type": "execute_result"
    }
   ],
   "source": [
    "lst.remove(\"test\")\n",
    "lst"
   ]
  },
  {
   "cell_type": "code",
   "execution_count": 235,
   "metadata": {},
   "outputs": [],
   "source": [
    "x_train = df_train.loc[:,lst]"
   ]
  },
  {
   "cell_type": "code",
   "execution_count": 236,
   "metadata": {},
   "outputs": [],
   "source": [
    "x_test = df_test.loc[:,lst]"
   ]
  },
  {
   "cell_type": "code",
   "execution_count": 237,
   "metadata": {},
   "outputs": [
    {
     "name": "stdout",
     "output_type": "stream",
     "text": [
      "|--- country <= 13.50\n",
      "|   |--- country <= 0.50\n",
      "|   |   |--- browser <= 4.50\n",
      "|   |   |   |--- date <= 1.50\n",
      "|   |   |   |   |--- age <= 51.50\n",
      "|   |   |   |   |   |--- age <= 48.50\n",
      "|   |   |   |   |   |   |--- sex <= 0.50\n",
      "|   |   |   |   |   |   |   |--- age <= 26.50\n",
      "|   |   |   |   |   |   |   |   |--- class: 1\n",
      "|   |   |   |   |   |   |   |--- age >  26.50\n",
      "|   |   |   |   |   |   |   |   |--- class: 1\n",
      "|   |   |   |   |   |   |--- sex >  0.50\n",
      "|   |   |   |   |   |   |   |--- age <= 26.50\n",
      "|   |   |   |   |   |   |   |   |--- class: 1\n",
      "|   |   |   |   |   |   |   |--- age >  26.50\n",
      "|   |   |   |   |   |   |   |   |--- class: 1\n",
      "|   |   |   |   |   |--- age >  48.50\n",
      "|   |   |   |   |   |   |--- browser <= 1.50\n",
      "|   |   |   |   |   |   |   |--- age <= 49.50\n",
      "|   |   |   |   |   |   |   |   |--- class: 1\n",
      "|   |   |   |   |   |   |   |--- age >  49.50\n",
      "|   |   |   |   |   |   |   |   |--- class: 1\n",
      "|   |   |   |   |   |   |--- browser >  1.50\n",
      "|   |   |   |   |   |   |   |--- class: 1\n",
      "|   |   |   |   |--- age >  51.50\n",
      "|   |   |   |   |   |--- device <= 0.50\n",
      "|   |   |   |   |   |   |--- age <= 53.50\n",
      "|   |   |   |   |   |   |   |--- date <= 0.50\n",
      "|   |   |   |   |   |   |   |   |--- class: 0\n",
      "|   |   |   |   |   |   |   |--- date >  0.50\n",
      "|   |   |   |   |   |   |   |   |--- class: 1\n",
      "|   |   |   |   |   |   |--- age >  53.50\n",
      "|   |   |   |   |   |   |   |--- class: 1\n",
      "|   |   |   |   |   |--- device >  0.50\n",
      "|   |   |   |   |   |   |--- browser <= 1.50\n",
      "|   |   |   |   |   |   |   |--- age <= 57.00\n",
      "|   |   |   |   |   |   |   |   |--- class: 1\n",
      "|   |   |   |   |   |   |   |--- age >  57.00\n",
      "|   |   |   |   |   |   |   |   |--- class: 0\n",
      "|   |   |   |   |   |   |--- browser >  1.50\n",
      "|   |   |   |   |   |   |   |--- class: 0\n",
      "|   |   |   |--- date >  1.50\n",
      "|   |   |   |   |--- date <= 2.50\n",
      "|   |   |   |   |   |--- age <= 46.50\n",
      "|   |   |   |   |   |   |--- browser <= 1.50\n",
      "|   |   |   |   |   |   |   |--- browser_language <= 1.50\n",
      "|   |   |   |   |   |   |   |   |--- class: 1\n",
      "|   |   |   |   |   |   |   |--- browser_language >  1.50\n",
      "|   |   |   |   |   |   |   |   |--- class: 1\n",
      "|   |   |   |   |   |   |--- browser >  1.50\n",
      "|   |   |   |   |   |   |   |--- age <= 40.50\n",
      "|   |   |   |   |   |   |   |   |--- class: 1\n",
      "|   |   |   |   |   |   |   |--- age >  40.50\n",
      "|   |   |   |   |   |   |   |   |--- class: 1\n",
      "|   |   |   |   |   |--- age >  46.50\n",
      "|   |   |   |   |   |   |--- source <= 0.50\n",
      "|   |   |   |   |   |   |   |--- age <= 51.50\n",
      "|   |   |   |   |   |   |   |   |--- class: 1\n",
      "|   |   |   |   |   |   |   |--- age >  51.50\n",
      "|   |   |   |   |   |   |   |   |--- class: 0\n",
      "|   |   |   |   |   |   |--- source >  0.50\n",
      "|   |   |   |   |   |   |   |--- browser <= 1.50\n",
      "|   |   |   |   |   |   |   |   |--- class: 1\n",
      "|   |   |   |   |   |   |   |--- browser >  1.50\n",
      "|   |   |   |   |   |   |   |   |--- class: 1\n",
      "|   |   |   |   |--- date >  2.50\n",
      "|   |   |   |   |   |--- age <= 54.50\n",
      "|   |   |   |   |   |   |--- age <= 51.50\n",
      "|   |   |   |   |   |   |   |--- source <= 0.50\n",
      "|   |   |   |   |   |   |   |   |--- class: 1\n",
      "|   |   |   |   |   |   |   |--- source >  0.50\n",
      "|   |   |   |   |   |   |   |   |--- class: 1\n",
      "|   |   |   |   |   |   |--- age >  51.50\n",
      "|   |   |   |   |   |   |   |--- age <= 53.50\n",
      "|   |   |   |   |   |   |   |   |--- class: 1\n",
      "|   |   |   |   |   |   |   |--- age >  53.50\n",
      "|   |   |   |   |   |   |   |   |--- class: 1\n",
      "|   |   |   |   |   |--- age >  54.50\n",
      "|   |   |   |   |   |   |--- age <= 55.50\n",
      "|   |   |   |   |   |   |   |--- class: 0\n",
      "|   |   |   |   |   |   |--- age >  55.50\n",
      "|   |   |   |   |   |   |   |--- date <= 3.50\n",
      "|   |   |   |   |   |   |   |   |--- class: 0\n",
      "|   |   |   |   |   |   |   |--- date >  3.50\n",
      "|   |   |   |   |   |   |   |   |--- class: 1\n",
      "|   |   |--- browser >  4.50\n",
      "|   |   |   |--- sex <= 0.50\n",
      "|   |   |   |   |--- age <= 39.50\n",
      "|   |   |   |   |   |--- age <= 38.50\n",
      "|   |   |   |   |   |   |--- age <= 21.50\n",
      "|   |   |   |   |   |   |   |--- source <= 0.50\n",
      "|   |   |   |   |   |   |   |   |--- class: 1\n",
      "|   |   |   |   |   |   |   |--- source >  0.50\n",
      "|   |   |   |   |   |   |   |   |--- class: 1\n",
      "|   |   |   |   |   |   |--- age >  21.50\n",
      "|   |   |   |   |   |   |   |--- age <= 27.50\n",
      "|   |   |   |   |   |   |   |   |--- class: 1\n",
      "|   |   |   |   |   |   |   |--- age >  27.50\n",
      "|   |   |   |   |   |   |   |   |--- class: 1\n",
      "|   |   |   |   |   |--- age >  38.50\n",
      "|   |   |   |   |   |   |--- date <= 3.50\n",
      "|   |   |   |   |   |   |   |--- source <= 0.50\n",
      "|   |   |   |   |   |   |   |   |--- class: 1\n",
      "|   |   |   |   |   |   |   |--- source >  0.50\n",
      "|   |   |   |   |   |   |   |   |--- class: 0\n",
      "|   |   |   |   |   |   |--- date >  3.50\n",
      "|   |   |   |   |   |   |   |--- browser <= 5.50\n",
      "|   |   |   |   |   |   |   |   |--- class: 0\n",
      "|   |   |   |   |   |   |   |--- browser >  5.50\n",
      "|   |   |   |   |   |   |   |   |--- class: 1\n",
      "|   |   |   |   |--- age >  39.50\n",
      "|   |   |   |   |   |--- age <= 51.50\n",
      "|   |   |   |   |   |   |--- age <= 44.50\n",
      "|   |   |   |   |   |   |   |--- source <= 1.50\n",
      "|   |   |   |   |   |   |   |   |--- class: 1\n",
      "|   |   |   |   |   |   |   |--- source >  1.50\n",
      "|   |   |   |   |   |   |   |   |--- class: 1\n",
      "|   |   |   |   |   |   |--- age >  44.50\n",
      "|   |   |   |   |   |   |   |--- date <= 0.50\n",
      "|   |   |   |   |   |   |   |   |--- class: 1\n",
      "|   |   |   |   |   |   |   |--- date >  0.50\n",
      "|   |   |   |   |   |   |   |   |--- class: 1\n",
      "|   |   |   |   |   |--- age >  51.50\n",
      "|   |   |   |   |   |   |--- source <= 1.50\n",
      "|   |   |   |   |   |   |   |--- age <= 53.50\n",
      "|   |   |   |   |   |   |   |   |--- class: 0\n",
      "|   |   |   |   |   |   |   |--- age >  53.50\n",
      "|   |   |   |   |   |   |   |   |--- class: 1\n",
      "|   |   |   |   |   |   |--- source >  1.50\n",
      "|   |   |   |   |   |   |   |--- class: 1\n",
      "|   |   |   |--- sex >  0.50\n",
      "|   |   |   |   |--- age <= 18.50\n",
      "|   |   |   |   |   |--- date <= 0.50\n",
      "|   |   |   |   |   |   |--- browser_language <= 1.50\n",
      "|   |   |   |   |   |   |   |--- source <= 1.50\n",
      "|   |   |   |   |   |   |   |   |--- class: 0\n",
      "|   |   |   |   |   |   |   |--- source >  1.50\n",
      "|   |   |   |   |   |   |   |   |--- class: 0\n",
      "|   |   |   |   |   |   |--- browser_language >  1.50\n",
      "|   |   |   |   |   |   |   |--- class: 1\n",
      "|   |   |   |   |   |--- date >  0.50\n",
      "|   |   |   |   |   |   |--- browser_language <= 0.50\n",
      "|   |   |   |   |   |   |   |--- class: 1\n",
      "|   |   |   |   |   |   |--- browser_language >  0.50\n",
      "|   |   |   |   |   |   |   |--- browser <= 5.50\n",
      "|   |   |   |   |   |   |   |   |--- class: 0\n",
      "|   |   |   |   |   |   |   |--- browser >  5.50\n",
      "|   |   |   |   |   |   |   |   |--- class: 1\n",
      "|   |   |   |   |--- age >  18.50\n",
      "|   |   |   |   |   |--- date <= 0.50\n",
      "|   |   |   |   |   |   |--- browser_language <= 1.50\n",
      "|   |   |   |   |   |   |   |--- source <= 0.50\n",
      "|   |   |   |   |   |   |   |   |--- class: 1\n",
      "|   |   |   |   |   |   |   |--- source >  0.50\n",
      "|   |   |   |   |   |   |   |   |--- class: 1\n",
      "|   |   |   |   |   |   |--- browser_language >  1.50\n",
      "|   |   |   |   |   |   |   |--- source <= 0.50\n",
      "|   |   |   |   |   |   |   |   |--- class: 1\n",
      "|   |   |   |   |   |   |   |--- source >  0.50\n",
      "|   |   |   |   |   |   |   |   |--- class: 0\n",
      "|   |   |   |   |   |--- date >  0.50\n",
      "|   |   |   |   |   |   |--- date <= 1.50\n",
      "|   |   |   |   |   |   |   |--- age <= 19.50\n",
      "|   |   |   |   |   |   |   |   |--- class: 1\n",
      "|   |   |   |   |   |   |   |--- age >  19.50\n",
      "|   |   |   |   |   |   |   |   |--- class: 1\n",
      "|   |   |   |   |   |   |--- date >  1.50\n",
      "|   |   |   |   |   |   |   |--- browser_language <= 1.50\n",
      "|   |   |   |   |   |   |   |   |--- class: 1\n",
      "|   |   |   |   |   |   |   |--- browser_language >  1.50\n",
      "|   |   |   |   |   |   |   |   |--- class: 1\n",
      "|   |--- country >  0.50\n",
      "|   |   |--- age <= 56.50\n",
      "|   |   |   |--- source <= 1.50\n",
      "|   |   |   |   |--- age <= 32.50\n",
      "|   |   |   |   |   |--- browser <= 1.50\n",
      "|   |   |   |   |   |   |--- date <= 1.50\n",
      "|   |   |   |   |   |   |   |--- age <= 31.50\n",
      "|   |   |   |   |   |   |   |   |--- class: 1\n",
      "|   |   |   |   |   |   |   |--- age >  31.50\n",
      "|   |   |   |   |   |   |   |   |--- class: 1\n",
      "|   |   |   |   |   |   |--- date >  1.50\n",
      "|   |   |   |   |   |   |   |--- sex <= 0.50\n",
      "|   |   |   |   |   |   |   |   |--- class: 0\n",
      "|   |   |   |   |   |   |   |--- sex >  0.50\n",
      "|   |   |   |   |   |   |   |   |--- class: 1\n",
      "|   |   |   |   |   |--- browser >  1.50\n",
      "|   |   |   |   |   |   |--- browser_language <= 0.50\n",
      "|   |   |   |   |   |   |   |--- age <= 31.50\n",
      "|   |   |   |   |   |   |   |   |--- class: 1\n",
      "|   |   |   |   |   |   |   |--- age >  31.50\n",
      "|   |   |   |   |   |   |   |   |--- class: 0\n",
      "|   |   |   |   |   |   |--- browser_language >  0.50\n",
      "|   |   |   |   |   |   |   |--- browser <= 2.50\n",
      "|   |   |   |   |   |   |   |   |--- class: 0\n",
      "|   |   |   |   |   |   |   |--- browser >  2.50\n",
      "|   |   |   |   |   |   |   |   |--- class: 0\n",
      "|   |   |   |   |--- age >  32.50\n",
      "|   |   |   |   |   |--- age <= 48.50\n",
      "|   |   |   |   |   |   |--- browser <= 5.50\n",
      "|   |   |   |   |   |   |   |--- age <= 39.50\n",
      "|   |   |   |   |   |   |   |   |--- class: 0\n",
      "|   |   |   |   |   |   |   |--- age >  39.50\n",
      "|   |   |   |   |   |   |   |   |--- class: 0\n",
      "|   |   |   |   |   |   |--- browser >  5.50\n",
      "|   |   |   |   |   |   |   |--- age <= 41.50\n",
      "|   |   |   |   |   |   |   |   |--- class: 0\n",
      "|   |   |   |   |   |   |   |--- age >  41.50\n",
      "|   |   |   |   |   |   |   |   |--- class: 1\n",
      "|   |   |   |   |   |--- age >  48.50\n",
      "|   |   |   |   |   |   |--- browser_language <= 0.50\n",
      "|   |   |   |   |   |   |   |--- country <= 12.50\n",
      "|   |   |   |   |   |   |   |   |--- class: 1\n",
      "|   |   |   |   |   |   |   |--- country >  12.50\n",
      "|   |   |   |   |   |   |   |   |--- class: 0\n",
      "|   |   |   |   |   |   |--- browser_language >  0.50\n",
      "|   |   |   |   |   |   |   |--- date <= 3.50\n",
      "|   |   |   |   |   |   |   |   |--- class: 1\n",
      "|   |   |   |   |   |   |   |--- date >  3.50\n",
      "|   |   |   |   |   |   |   |   |--- class: 0\n",
      "|   |   |   |--- source >  1.50\n",
      "|   |   |   |   |--- date <= 1.50\n",
      "|   |   |   |   |   |--- age <= 47.50\n",
      "|   |   |   |   |   |   |--- sex <= 0.50\n",
      "|   |   |   |   |   |   |   |--- date <= 0.50\n",
      "|   |   |   |   |   |   |   |   |--- class: 1\n",
      "|   |   |   |   |   |   |   |--- date >  0.50\n",
      "|   |   |   |   |   |   |   |   |--- class: 0\n",
      "|   |   |   |   |   |   |--- sex >  0.50\n",
      "|   |   |   |   |   |   |   |--- age <= 36.50\n",
      "|   |   |   |   |   |   |   |   |--- class: 0\n",
      "|   |   |   |   |   |   |   |--- age >  36.50\n",
      "|   |   |   |   |   |   |   |   |--- class: 1\n",
      "|   |   |   |   |   |--- age >  47.50\n",
      "|   |   |   |   |   |   |--- date <= 0.50\n",
      "|   |   |   |   |   |   |   |--- browser <= 5.00\n",
      "|   |   |   |   |   |   |   |   |--- class: 0\n",
      "|   |   |   |   |   |   |   |--- browser >  5.00\n",
      "|   |   |   |   |   |   |   |   |--- class: 0\n",
      "|   |   |   |   |   |   |--- date >  0.50\n",
      "|   |   |   |   |   |   |   |--- browser <= 2.50\n",
      "|   |   |   |   |   |   |   |   |--- class: 0\n",
      "|   |   |   |   |   |   |   |--- browser >  2.50\n",
      "|   |   |   |   |   |   |   |   |--- class: 0\n",
      "|   |   |   |   |--- date >  1.50\n",
      "|   |   |   |   |   |--- age <= 36.50\n",
      "|   |   |   |   |   |   |--- age <= 28.50\n",
      "|   |   |   |   |   |   |   |--- country <= 9.50\n",
      "|   |   |   |   |   |   |   |   |--- class: 1\n",
      "|   |   |   |   |   |   |   |--- country >  9.50\n",
      "|   |   |   |   |   |   |   |   |--- class: 0\n",
      "|   |   |   |   |   |   |--- age >  28.50\n",
      "|   |   |   |   |   |   |   |--- country <= 9.50\n",
      "|   |   |   |   |   |   |   |   |--- class: 0\n",
      "|   |   |   |   |   |   |   |--- country >  9.50\n",
      "|   |   |   |   |   |   |   |   |--- class: 1\n",
      "|   |   |   |   |   |--- age >  36.50\n",
      "|   |   |   |   |   |   |--- date <= 3.50\n",
      "|   |   |   |   |   |   |   |--- device <= 0.50\n",
      "|   |   |   |   |   |   |   |   |--- class: 1\n",
      "|   |   |   |   |   |   |   |--- device >  0.50\n",
      "|   |   |   |   |   |   |   |   |--- class: 1\n",
      "|   |   |   |   |   |   |--- date >  3.50\n",
      "|   |   |   |   |   |   |   |--- country <= 1.50\n",
      "|   |   |   |   |   |   |   |   |--- class: 0\n",
      "|   |   |   |   |   |   |   |--- country >  1.50\n",
      "|   |   |   |   |   |   |   |   |--- class: 1\n",
      "|   |   |--- age >  56.50\n",
      "|   |   |   |--- date <= 2.50\n",
      "|   |   |   |   |--- age <= 68.00\n",
      "|   |   |   |   |   |--- date <= 0.50\n",
      "|   |   |   |   |   |   |--- country <= 8.50\n",
      "|   |   |   |   |   |   |   |--- country <= 2.50\n",
      "|   |   |   |   |   |   |   |   |--- class: 0\n",
      "|   |   |   |   |   |   |   |--- country >  2.50\n",
      "|   |   |   |   |   |   |   |   |--- class: 0\n",
      "|   |   |   |   |   |   |--- country >  8.50\n",
      "|   |   |   |   |   |   |   |--- source <= 1.00\n",
      "|   |   |   |   |   |   |   |   |--- class: 1\n",
      "|   |   |   |   |   |   |   |--- source >  1.00\n",
      "|   |   |   |   |   |   |   |   |--- class: 0\n",
      "|   |   |   |   |   |--- date >  0.50\n",
      "|   |   |   |   |   |   |--- country <= 1.50\n",
      "|   |   |   |   |   |   |   |--- source <= 1.00\n",
      "|   |   |   |   |   |   |   |   |--- class: 1\n",
      "|   |   |   |   |   |   |   |--- source >  1.00\n",
      "|   |   |   |   |   |   |   |   |--- class: 0\n",
      "|   |   |   |   |   |   |--- country >  1.50\n",
      "|   |   |   |   |   |   |   |--- source <= 1.50\n",
      "|   |   |   |   |   |   |   |   |--- class: 0\n",
      "|   |   |   |   |   |   |   |--- source >  1.50\n",
      "|   |   |   |   |   |   |   |   |--- class: 0\n",
      "|   |   |   |   |--- age >  68.00\n",
      "|   |   |   |   |   |--- class: 1\n",
      "|   |   |   |--- date >  2.50\n",
      "|   |   |   |   |--- age <= 59.50\n",
      "|   |   |   |   |   |--- browser_language <= 1.50\n",
      "|   |   |   |   |   |   |--- device <= 0.50\n",
      "|   |   |   |   |   |   |   |--- country <= 10.50\n",
      "|   |   |   |   |   |   |   |   |--- class: 1\n",
      "|   |   |   |   |   |   |   |--- country >  10.50\n",
      "|   |   |   |   |   |   |   |   |--- class: 0\n",
      "|   |   |   |   |   |   |--- device >  0.50\n",
      "|   |   |   |   |   |   |   |--- country <= 2.50\n",
      "|   |   |   |   |   |   |   |   |--- class: 0\n",
      "|   |   |   |   |   |   |   |--- country >  2.50\n",
      "|   |   |   |   |   |   |   |   |--- class: 0\n",
      "|   |   |   |   |   |--- browser_language >  1.50\n",
      "|   |   |   |   |   |   |--- class: 1\n",
      "|   |   |   |   |--- age >  59.50\n",
      "|   |   |   |   |   |--- source <= 0.50\n",
      "|   |   |   |   |   |   |--- class: 1\n",
      "|   |   |   |   |   |--- source >  0.50\n",
      "|   |   |   |   |   |   |--- browser <= 2.00\n",
      "|   |   |   |   |   |   |   |--- class: 0\n",
      "|   |   |   |   |   |   |--- browser >  2.00\n",
      "|   |   |   |   |   |   |   |--- browser <= 5.00\n",
      "|   |   |   |   |   |   |   |   |--- class: 1\n",
      "|   |   |   |   |   |   |   |--- browser >  5.00\n",
      "|   |   |   |   |   |   |   |   |--- class: 0\n",
      "|--- country >  13.50\n",
      "|   |--- country <= 14.50\n",
      "|   |   |--- class: 0\n",
      "|   |--- country >  14.50\n",
      "|   |   |--- country <= 15.50\n",
      "|   |   |   |--- date <= 2.50\n",
      "|   |   |   |   |--- age <= 32.50\n",
      "|   |   |   |   |   |--- age <= 27.50\n",
      "|   |   |   |   |   |   |--- sex <= 0.50\n",
      "|   |   |   |   |   |   |   |--- source <= 1.50\n",
      "|   |   |   |   |   |   |   |   |--- class: 1\n",
      "|   |   |   |   |   |   |   |--- source >  1.50\n",
      "|   |   |   |   |   |   |   |   |--- class: 1\n",
      "|   |   |   |   |   |   |--- sex >  0.50\n",
      "|   |   |   |   |   |   |   |--- date <= 0.50\n",
      "|   |   |   |   |   |   |   |   |--- class: 1\n",
      "|   |   |   |   |   |   |   |--- date >  0.50\n",
      "|   |   |   |   |   |   |   |   |--- class: 1\n",
      "|   |   |   |   |   |--- age >  27.50\n",
      "|   |   |   |   |   |   |--- browser_language <= 1.50\n",
      "|   |   |   |   |   |   |   |--- date <= 1.50\n",
      "|   |   |   |   |   |   |   |   |--- class: 1\n",
      "|   |   |   |   |   |   |   |--- date >  1.50\n",
      "|   |   |   |   |   |   |   |   |--- class: 1\n",
      "|   |   |   |   |   |   |--- browser_language >  1.50\n",
      "|   |   |   |   |   |   |   |--- class: 1\n",
      "|   |   |   |   |--- age >  32.50\n",
      "|   |   |   |   |   |--- date <= 1.50\n",
      "|   |   |   |   |   |   |--- sex <= 0.50\n",
      "|   |   |   |   |   |   |   |--- source <= 0.50\n",
      "|   |   |   |   |   |   |   |   |--- class: 1\n",
      "|   |   |   |   |   |   |   |--- source >  0.50\n",
      "|   |   |   |   |   |   |   |   |--- class: 1\n",
      "|   |   |   |   |   |   |--- sex >  0.50\n",
      "|   |   |   |   |   |   |   |--- browser <= 2.50\n",
      "|   |   |   |   |   |   |   |   |--- class: 1\n",
      "|   |   |   |   |   |   |   |--- browser >  2.50\n",
      "|   |   |   |   |   |   |   |   |--- class: 1\n",
      "|   |   |   |   |   |--- date >  1.50\n",
      "|   |   |   |   |   |   |--- browser <= 3.50\n",
      "|   |   |   |   |   |   |   |--- age <= 39.50\n",
      "|   |   |   |   |   |   |   |   |--- class: 1\n",
      "|   |   |   |   |   |   |   |--- age >  39.50\n",
      "|   |   |   |   |   |   |   |   |--- class: 1\n",
      "|   |   |   |   |   |   |--- browser >  3.50\n",
      "|   |   |   |   |   |   |   |--- browser_language <= 0.50\n",
      "|   |   |   |   |   |   |   |   |--- class: 1\n",
      "|   |   |   |   |   |   |   |--- browser_language >  0.50\n",
      "|   |   |   |   |   |   |   |   |--- class: 1\n",
      "|   |   |   |--- date >  2.50\n",
      "|   |   |   |   |--- age <= 49.50\n",
      "|   |   |   |   |   |--- browser <= 2.50\n",
      "|   |   |   |   |   |   |--- date <= 3.50\n",
      "|   |   |   |   |   |   |   |--- browser <= 1.50\n",
      "|   |   |   |   |   |   |   |   |--- class: 1\n",
      "|   |   |   |   |   |   |   |--- browser >  1.50\n",
      "|   |   |   |   |   |   |   |   |--- class: 1\n",
      "|   |   |   |   |   |   |--- date >  3.50\n",
      "|   |   |   |   |   |   |   |--- age <= 38.50\n",
      "|   |   |   |   |   |   |   |   |--- class: 1\n",
      "|   |   |   |   |   |   |   |--- age >  38.50\n",
      "|   |   |   |   |   |   |   |   |--- class: 1\n",
      "|   |   |   |   |   |--- browser >  2.50\n",
      "|   |   |   |   |   |   |--- age <= 26.50\n",
      "|   |   |   |   |   |   |   |--- device <= 0.50\n",
      "|   |   |   |   |   |   |   |   |--- class: 1\n",
      "|   |   |   |   |   |   |   |--- device >  0.50\n",
      "|   |   |   |   |   |   |   |   |--- class: 1\n",
      "|   |   |   |   |   |   |--- age >  26.50\n",
      "|   |   |   |   |   |   |   |--- browser_language <= 0.50\n",
      "|   |   |   |   |   |   |   |   |--- class: 1\n",
      "|   |   |   |   |   |   |   |--- browser_language >  0.50\n",
      "|   |   |   |   |   |   |   |   |--- class: 1\n",
      "|   |   |   |   |--- age >  49.50\n",
      "|   |   |   |   |   |--- sex <= 0.50\n",
      "|   |   |   |   |   |   |--- browser <= 0.50\n",
      "|   |   |   |   |   |   |   |--- class: 1\n",
      "|   |   |   |   |   |   |--- browser >  0.50\n",
      "|   |   |   |   |   |   |   |--- browser <= 2.00\n",
      "|   |   |   |   |   |   |   |   |--- class: 0\n",
      "|   |   |   |   |   |   |   |--- browser >  2.00\n",
      "|   |   |   |   |   |   |   |   |--- class: 1\n",
      "|   |   |   |   |   |--- sex >  0.50\n",
      "|   |   |   |   |   |   |--- browser_language <= 0.50\n",
      "|   |   |   |   |   |   |   |--- class: 1\n",
      "|   |   |   |   |   |   |--- browser_language >  0.50\n",
      "|   |   |   |   |   |   |   |--- class: 0\n",
      "|   |   |--- country >  15.50\n",
      "|   |   |   |--- date <= 0.50\n",
      "|   |   |   |   |--- source <= 1.50\n",
      "|   |   |   |   |   |--- sex <= 0.50\n",
      "|   |   |   |   |   |   |--- browser <= 1.50\n",
      "|   |   |   |   |   |   |   |--- age <= 34.50\n",
      "|   |   |   |   |   |   |   |   |--- class: 0\n",
      "|   |   |   |   |   |   |   |--- age >  34.50\n",
      "|   |   |   |   |   |   |   |   |--- class: 0\n",
      "|   |   |   |   |   |   |--- browser >  1.50\n",
      "|   |   |   |   |   |   |   |--- age <= 22.50\n",
      "|   |   |   |   |   |   |   |   |--- class: 0\n",
      "|   |   |   |   |   |   |   |--- age >  22.50\n",
      "|   |   |   |   |   |   |   |   |--- class: 1\n",
      "|   |   |   |   |   |--- sex >  0.50\n",
      "|   |   |   |   |   |   |--- age <= 28.50\n",
      "|   |   |   |   |   |   |   |--- browser_language <= 0.50\n",
      "|   |   |   |   |   |   |   |   |--- class: 0\n",
      "|   |   |   |   |   |   |   |--- browser_language >  0.50\n",
      "|   |   |   |   |   |   |   |   |--- class: 0\n",
      "|   |   |   |   |   |   |--- age >  28.50\n",
      "|   |   |   |   |   |   |   |--- age <= 44.50\n",
      "|   |   |   |   |   |   |   |   |--- class: 1\n",
      "|   |   |   |   |   |   |   |--- age >  44.50\n",
      "|   |   |   |   |   |   |   |   |--- class: 0\n",
      "|   |   |   |   |--- source >  1.50\n",
      "|   |   |   |   |   |--- age <= 48.50\n",
      "|   |   |   |   |   |   |--- age <= 46.50\n",
      "|   |   |   |   |   |   |   |--- age <= 30.50\n",
      "|   |   |   |   |   |   |   |   |--- class: 1\n",
      "|   |   |   |   |   |   |   |--- age >  30.50\n",
      "|   |   |   |   |   |   |   |   |--- class: 0\n",
      "|   |   |   |   |   |   |--- age >  46.50\n",
      "|   |   |   |   |   |   |   |--- browser <= 1.50\n",
      "|   |   |   |   |   |   |   |   |--- class: 1\n",
      "|   |   |   |   |   |   |   |--- browser >  1.50\n",
      "|   |   |   |   |   |   |   |   |--- class: 1\n",
      "|   |   |   |   |   |--- age >  48.50\n",
      "|   |   |   |   |   |   |--- age <= 53.50\n",
      "|   |   |   |   |   |   |   |--- class: 0\n",
      "|   |   |   |   |   |   |--- age >  53.50\n",
      "|   |   |   |   |   |   |   |--- browser <= 1.50\n",
      "|   |   |   |   |   |   |   |   |--- class: 0\n",
      "|   |   |   |   |   |   |   |--- browser >  1.50\n",
      "|   |   |   |   |   |   |   |   |--- class: 1\n",
      "|   |   |   |--- date >  0.50\n",
      "|   |   |   |   |--- age <= 22.50\n",
      "|   |   |   |   |   |--- age <= 21.50\n",
      "|   |   |   |   |   |   |--- source <= 0.50\n",
      "|   |   |   |   |   |   |   |--- device <= 0.50\n",
      "|   |   |   |   |   |   |   |   |--- class: 0\n",
      "|   |   |   |   |   |   |   |--- device >  0.50\n",
      "|   |   |   |   |   |   |   |   |--- class: 1\n",
      "|   |   |   |   |   |   |--- source >  0.50\n",
      "|   |   |   |   |   |   |   |--- age <= 18.50\n",
      "|   |   |   |   |   |   |   |   |--- class: 1\n",
      "|   |   |   |   |   |   |   |--- age >  18.50\n",
      "|   |   |   |   |   |   |   |   |--- class: 1\n",
      "|   |   |   |   |   |--- age >  21.50\n",
      "|   |   |   |   |   |   |--- date <= 1.50\n",
      "|   |   |   |   |   |   |   |--- browser_language <= 0.50\n",
      "|   |   |   |   |   |   |   |   |--- class: 1\n",
      "|   |   |   |   |   |   |   |--- browser_language >  0.50\n",
      "|   |   |   |   |   |   |   |   |--- class: 1\n",
      "|   |   |   |   |   |   |--- date >  1.50\n",
      "|   |   |   |   |   |   |   |--- source <= 0.50\n",
      "|   |   |   |   |   |   |   |   |--- class: 1\n",
      "|   |   |   |   |   |   |   |--- source >  0.50\n",
      "|   |   |   |   |   |   |   |   |--- class: 1\n",
      "|   |   |   |   |--- age >  22.50\n",
      "|   |   |   |   |   |--- browser <= 1.50\n",
      "|   |   |   |   |   |   |--- age <= 56.50\n",
      "|   |   |   |   |   |   |   |--- age <= 54.50\n",
      "|   |   |   |   |   |   |   |   |--- class: 1\n",
      "|   |   |   |   |   |   |   |--- age >  54.50\n",
      "|   |   |   |   |   |   |   |   |--- class: 1\n",
      "|   |   |   |   |   |   |--- age >  56.50\n",
      "|   |   |   |   |   |   |   |--- class: 0\n",
      "|   |   |   |   |   |--- browser >  1.50\n",
      "|   |   |   |   |   |   |--- age <= 27.50\n",
      "|   |   |   |   |   |   |   |--- browser_language <= 1.50\n",
      "|   |   |   |   |   |   |   |   |--- class: 0\n",
      "|   |   |   |   |   |   |   |--- browser_language >  1.50\n",
      "|   |   |   |   |   |   |   |   |--- class: 1\n",
      "|   |   |   |   |   |   |--- age >  27.50\n",
      "|   |   |   |   |   |   |   |--- source <= 1.50\n",
      "|   |   |   |   |   |   |   |   |--- class: 0\n",
      "|   |   |   |   |   |   |   |--- source >  1.50\n",
      "|   |   |   |   |   |   |   |   |--- class: 1\n",
      "\n"
     ]
    }
   ],
   "source": [
    "decision_tree = tree.DecisionTreeClassifier(random_state=0, max_depth=8)\n",
    "decision_tree = decision_tree.fit(x_train, y_train)\n",
    "r = export_text(decision_tree, feature_names=list(x_train))\n",
    "print(r)"
   ]
  },
  {
   "cell_type": "markdown",
   "metadata": {},
   "source": [
    "So country, browser, date, and age are important to look into to inspect the test set up. We have already found some actionable suggestions for date."
   ]
  },
  {
   "cell_type": "code",
   "execution_count": null,
   "metadata": {},
   "outputs": [],
   "source": []
  }
 ],
 "metadata": {
  "kernelspec": {
   "display_name": "Python 3",
   "language": "python",
   "name": "python3"
  },
  "language_info": {
   "codemirror_mode": {
    "name": "ipython",
    "version": 3
   },
   "file_extension": ".py",
   "mimetype": "text/x-python",
   "name": "python",
   "nbconvert_exporter": "python",
   "pygments_lexer": "ipython3",
   "version": "3.7.3"
  }
 },
 "nbformat": 4,
 "nbformat_minor": 2
}
